{
 "cells": [
  {
   "cell_type": "code",
   "execution_count": 1,
   "metadata": {
    "scrolled": true
   },
   "outputs": [
    {
     "name": "stderr",
     "output_type": "stream",
     "text": [
      "In C:\\Users\\SUNNY\\Anaconda3\\lib\\site-packages\\matplotlib\\mpl-data\\stylelib\\_classic_test.mplstyle: \n",
      "The text.latex.unicode rcparam was deprecated in Matplotlib 3.0 and will be removed in 3.2.\n",
      "In C:\\Users\\SUNNY\\Anaconda3\\lib\\site-packages\\matplotlib\\mpl-data\\stylelib\\_classic_test.mplstyle: \n",
      "The savefig.frameon rcparam was deprecated in Matplotlib 3.1 and will be removed in 3.3.\n",
      "In C:\\Users\\SUNNY\\Anaconda3\\lib\\site-packages\\matplotlib\\mpl-data\\stylelib\\_classic_test.mplstyle: \n",
      "The pgf.debug rcparam was deprecated in Matplotlib 3.0 and will be removed in 3.2.\n",
      "In C:\\Users\\SUNNY\\Anaconda3\\lib\\site-packages\\matplotlib\\mpl-data\\stylelib\\_classic_test.mplstyle: \n",
      "The verbose.level rcparam was deprecated in Matplotlib 3.1 and will be removed in 3.3.\n",
      "In C:\\Users\\SUNNY\\Anaconda3\\lib\\site-packages\\matplotlib\\mpl-data\\stylelib\\_classic_test.mplstyle: \n",
      "The verbose.fileo rcparam was deprecated in Matplotlib 3.1 and will be removed in 3.3.\n"
     ]
    }
   ],
   "source": [
    "import pandas as pd\n",
    "import numpy as np\n",
    "import matplotlib.pyplot as plt\n",
    "import seaborn as sns\n",
    "%matplotlib inline \n",
    "plt.rcParams[\"figure.figsize\"] = (20,10)\n"
   ]
  },
  {
   "cell_type": "code",
   "execution_count": 2,
   "metadata": {
    "scrolled": true
   },
   "outputs": [
    {
     "data": {
      "text/plain": [
       "3056.7941"
      ]
     },
     "execution_count": 2,
     "metadata": {},
     "output_type": "execute_result"
    }
   ],
   "source": [
    "df=pd.read_csv('C://Users//SUNNY//Desktop//spg.csv')\n",
    "df.generated_power_kw.max()"
   ]
  },
  {
   "cell_type": "markdown",
   "metadata": {
    "scrolled": true
   },
   "source": [
    "## Positive Correlations with dependent variable"
   ]
  },
  {
   "cell_type": "code",
   "execution_count": 106,
   "metadata": {
    "scrolled": true
   },
   "outputs": [
    {
     "data": {
      "text/html": [
       "<div>\n",
       "<style scoped>\n",
       "    .dataframe tbody tr th:only-of-type {\n",
       "        vertical-align: middle;\n",
       "    }\n",
       "\n",
       "    .dataframe tbody tr th {\n",
       "        vertical-align: top;\n",
       "    }\n",
       "\n",
       "    .dataframe thead th {\n",
       "        text-align: right;\n",
       "    }\n",
       "</style>\n",
       "<table border=\"1\" class=\"dataframe\">\n",
       "  <thead>\n",
       "    <tr style=\"text-align: right;\">\n",
       "      <th></th>\n",
       "      <th>temperature_2_m_above_gnd</th>\n",
       "      <th>relative_humidity_2_m_above_gnd</th>\n",
       "      <th>mean_sea_level_pressure_MSL</th>\n",
       "      <th>total_precipitation_sfc</th>\n",
       "      <th>snowfall_amount_sfc</th>\n",
       "      <th>total_cloud_cover_sfc</th>\n",
       "      <th>high_cloud_cover_high_cld_lay</th>\n",
       "      <th>medium_cloud_cover_mid_cld_lay</th>\n",
       "      <th>low_cloud_cover_low_cld_lay</th>\n",
       "      <th>shortwave_radiation_backwards_sfc</th>\n",
       "      <th>...</th>\n",
       "      <th>wind_direction_10_m_above_gnd</th>\n",
       "      <th>wind_speed_80_m_above_gnd</th>\n",
       "      <th>wind_direction_80_m_above_gnd</th>\n",
       "      <th>wind_speed_900_mb</th>\n",
       "      <th>wind_direction_900_mb</th>\n",
       "      <th>wind_gust_10_m_above_gnd</th>\n",
       "      <th>angle_of_incidence</th>\n",
       "      <th>zenith</th>\n",
       "      <th>azimuth</th>\n",
       "      <th>generated_power_kw</th>\n",
       "    </tr>\n",
       "  </thead>\n",
       "  <tbody>\n",
       "    <tr>\n",
       "      <th>temperature_2_m_above_gnd</th>\n",
       "      <td>1.000000</td>\n",
       "      <td>-0.780716</td>\n",
       "      <td>-0.402478</td>\n",
       "      <td>-0.113468</td>\n",
       "      <td>-0.168743</td>\n",
       "      <td>-0.297001</td>\n",
       "      <td>-0.028867</td>\n",
       "      <td>-0.051851</td>\n",
       "      <td>-0.356894</td>\n",
       "      <td>0.660141</td>\n",
       "      <td>...</td>\n",
       "      <td>0.042216</td>\n",
       "      <td>-0.184233</td>\n",
       "      <td>0.077669</td>\n",
       "      <td>-0.125139</td>\n",
       "      <td>0.038226</td>\n",
       "      <td>-0.139075</td>\n",
       "      <td>-0.078568</td>\n",
       "      <td>-0.543365</td>\n",
       "      <td>0.365839</td>\n",
       "      <td>0.209958</td>\n",
       "    </tr>\n",
       "    <tr>\n",
       "      <th>relative_humidity_2_m_above_gnd</th>\n",
       "      <td>-0.780716</td>\n",
       "      <td>1.000000</td>\n",
       "      <td>0.126962</td>\n",
       "      <td>0.202549</td>\n",
       "      <td>0.142054</td>\n",
       "      <td>0.384724</td>\n",
       "      <td>0.074456</td>\n",
       "      <td>0.099386</td>\n",
       "      <td>0.484010</td>\n",
       "      <td>-0.716035</td>\n",
       "      <td>...</td>\n",
       "      <td>-0.016946</td>\n",
       "      <td>0.168811</td>\n",
       "      <td>-0.038996</td>\n",
       "      <td>0.089278</td>\n",
       "      <td>-0.004020</td>\n",
       "      <td>0.104590</td>\n",
       "      <td>0.220580</td>\n",
       "      <td>0.499150</td>\n",
       "      <td>-0.522402</td>\n",
       "      <td>-0.302937</td>\n",
       "    </tr>\n",
       "    <tr>\n",
       "      <th>mean_sea_level_pressure_MSL</th>\n",
       "      <td>-0.402478</td>\n",
       "      <td>0.126962</td>\n",
       "      <td>1.000000</td>\n",
       "      <td>-0.233919</td>\n",
       "      <td>-0.073224</td>\n",
       "      <td>-0.185333</td>\n",
       "      <td>0.014672</td>\n",
       "      <td>-0.187444</td>\n",
       "      <td>-0.224647</td>\n",
       "      <td>-0.172501</td>\n",
       "      <td>...</td>\n",
       "      <td>-0.138542</td>\n",
       "      <td>-0.081926</td>\n",
       "      <td>-0.174687</td>\n",
       "      <td>-0.096181</td>\n",
       "      <td>-0.145955</td>\n",
       "      <td>-0.153069</td>\n",
       "      <td>-0.063623</td>\n",
       "      <td>0.270252</td>\n",
       "      <td>-0.154981</td>\n",
       "      <td>0.146625</td>\n",
       "    </tr>\n",
       "    <tr>\n",
       "      <th>total_precipitation_sfc</th>\n",
       "      <td>-0.113468</td>\n",
       "      <td>0.202549</td>\n",
       "      <td>-0.233919</td>\n",
       "      <td>1.000000</td>\n",
       "      <td>0.218508</td>\n",
       "      <td>0.292709</td>\n",
       "      <td>0.031198</td>\n",
       "      <td>0.291872</td>\n",
       "      <td>0.367649</td>\n",
       "      <td>-0.159115</td>\n",
       "      <td>...</td>\n",
       "      <td>0.013682</td>\n",
       "      <td>0.116335</td>\n",
       "      <td>0.020339</td>\n",
       "      <td>0.112715</td>\n",
       "      <td>0.013423</td>\n",
       "      <td>0.136619</td>\n",
       "      <td>-0.054096</td>\n",
       "      <td>-0.029884</td>\n",
       "      <td>0.039341</td>\n",
       "      <td>-0.158492</td>\n",
       "    </tr>\n",
       "    <tr>\n",
       "      <th>snowfall_amount_sfc</th>\n",
       "      <td>-0.168743</td>\n",
       "      <td>0.142054</td>\n",
       "      <td>-0.073224</td>\n",
       "      <td>0.218508</td>\n",
       "      <td>1.000000</td>\n",
       "      <td>0.137016</td>\n",
       "      <td>-0.045309</td>\n",
       "      <td>0.028226</td>\n",
       "      <td>0.175034</td>\n",
       "      <td>-0.099354</td>\n",
       "      <td>...</td>\n",
       "      <td>0.057985</td>\n",
       "      <td>0.127674</td>\n",
       "      <td>0.053677</td>\n",
       "      <td>0.132404</td>\n",
       "      <td>0.059935</td>\n",
       "      <td>0.131293</td>\n",
       "      <td>-0.030380</td>\n",
       "      <td>0.049824</td>\n",
       "      <td>0.005517</td>\n",
       "      <td>-0.056381</td>\n",
       "    </tr>\n",
       "    <tr>\n",
       "      <th>total_cloud_cover_sfc</th>\n",
       "      <td>-0.297001</td>\n",
       "      <td>0.384724</td>\n",
       "      <td>-0.185333</td>\n",
       "      <td>0.292709</td>\n",
       "      <td>0.137016</td>\n",
       "      <td>1.000000</td>\n",
       "      <td>0.488192</td>\n",
       "      <td>0.684639</td>\n",
       "      <td>0.705621</td>\n",
       "      <td>-0.309303</td>\n",
       "      <td>...</td>\n",
       "      <td>0.062300</td>\n",
       "      <td>0.182821</td>\n",
       "      <td>0.050348</td>\n",
       "      <td>0.171822</td>\n",
       "      <td>0.067840</td>\n",
       "      <td>0.235130</td>\n",
       "      <td>-0.023922</td>\n",
       "      <td>0.110019</td>\n",
       "      <td>0.002364</td>\n",
       "      <td>-0.311507</td>\n",
       "    </tr>\n",
       "    <tr>\n",
       "      <th>high_cloud_cover_high_cld_lay</th>\n",
       "      <td>-0.028867</td>\n",
       "      <td>0.074456</td>\n",
       "      <td>0.014672</td>\n",
       "      <td>0.031198</td>\n",
       "      <td>-0.045309</td>\n",
       "      <td>0.488192</td>\n",
       "      <td>1.000000</td>\n",
       "      <td>0.474669</td>\n",
       "      <td>0.003263</td>\n",
       "      <td>-0.089487</td>\n",
       "      <td>...</td>\n",
       "      <td>-0.013055</td>\n",
       "      <td>0.109176</td>\n",
       "      <td>-0.006584</td>\n",
       "      <td>0.106656</td>\n",
       "      <td>-0.006574</td>\n",
       "      <td>0.111058</td>\n",
       "      <td>-0.045805</td>\n",
       "      <td>0.053528</td>\n",
       "      <td>0.012909</td>\n",
       "      <td>-0.124552</td>\n",
       "    </tr>\n",
       "    <tr>\n",
       "      <th>medium_cloud_cover_mid_cld_lay</th>\n",
       "      <td>-0.051851</td>\n",
       "      <td>0.099386</td>\n",
       "      <td>-0.187444</td>\n",
       "      <td>0.291872</td>\n",
       "      <td>0.028226</td>\n",
       "      <td>0.684639</td>\n",
       "      <td>0.474669</td>\n",
       "      <td>1.000000</td>\n",
       "      <td>0.286688</td>\n",
       "      <td>-0.162884</td>\n",
       "      <td>...</td>\n",
       "      <td>0.011850</td>\n",
       "      <td>0.087014</td>\n",
       "      <td>0.024285</td>\n",
       "      <td>0.080861</td>\n",
       "      <td>0.014845</td>\n",
       "      <td>0.094837</td>\n",
       "      <td>-0.044088</td>\n",
       "      <td>0.006011</td>\n",
       "      <td>0.072784</td>\n",
       "      <td>-0.221060</td>\n",
       "    </tr>\n",
       "    <tr>\n",
       "      <th>low_cloud_cover_low_cld_lay</th>\n",
       "      <td>-0.356894</td>\n",
       "      <td>0.484010</td>\n",
       "      <td>-0.224647</td>\n",
       "      <td>0.367649</td>\n",
       "      <td>0.175034</td>\n",
       "      <td>0.705621</td>\n",
       "      <td>0.003263</td>\n",
       "      <td>0.286688</td>\n",
       "      <td>1.000000</td>\n",
       "      <td>-0.306942</td>\n",
       "      <td>...</td>\n",
       "      <td>0.071797</td>\n",
       "      <td>0.144723</td>\n",
       "      <td>0.058131</td>\n",
       "      <td>0.133034</td>\n",
       "      <td>0.072571</td>\n",
       "      <td>0.203345</td>\n",
       "      <td>-0.005453</td>\n",
       "      <td>0.082818</td>\n",
       "      <td>-0.016480</td>\n",
       "      <td>-0.266144</td>\n",
       "    </tr>\n",
       "    <tr>\n",
       "      <th>shortwave_radiation_backwards_sfc</th>\n",
       "      <td>0.660141</td>\n",
       "      <td>-0.716035</td>\n",
       "      <td>-0.172501</td>\n",
       "      <td>-0.159115</td>\n",
       "      <td>-0.099354</td>\n",
       "      <td>-0.309303</td>\n",
       "      <td>-0.089487</td>\n",
       "      <td>-0.162884</td>\n",
       "      <td>-0.306942</td>\n",
       "      <td>1.000000</td>\n",
       "      <td>...</td>\n",
       "      <td>-0.055955</td>\n",
       "      <td>-0.029066</td>\n",
       "      <td>-0.033252</td>\n",
       "      <td>0.075647</td>\n",
       "      <td>-0.062450</td>\n",
       "      <td>0.066513</td>\n",
       "      <td>-0.564515</td>\n",
       "      <td>-0.802391</td>\n",
       "      <td>0.566361</td>\n",
       "      <td>0.553944</td>\n",
       "    </tr>\n",
       "    <tr>\n",
       "      <th>wind_speed_10_m_above_gnd</th>\n",
       "      <td>-0.083848</td>\n",
       "      <td>0.054109</td>\n",
       "      <td>-0.126893</td>\n",
       "      <td>0.114415</td>\n",
       "      <td>0.135573</td>\n",
       "      <td>0.174302</td>\n",
       "      <td>0.097381</td>\n",
       "      <td>0.077516</td>\n",
       "      <td>0.145049</td>\n",
       "      <td>0.143011</td>\n",
       "      <td>...</td>\n",
       "      <td>-0.082388</td>\n",
       "      <td>0.952001</td>\n",
       "      <td>-0.040441</td>\n",
       "      <td>0.988578</td>\n",
       "      <td>-0.059596</td>\n",
       "      <td>0.871339</td>\n",
       "      <td>-0.157210</td>\n",
       "      <td>-0.090272</td>\n",
       "      <td>0.231544</td>\n",
       "      <td>-0.059494</td>\n",
       "    </tr>\n",
       "    <tr>\n",
       "      <th>wind_direction_10_m_above_gnd</th>\n",
       "      <td>0.042216</td>\n",
       "      <td>-0.016946</td>\n",
       "      <td>-0.138542</td>\n",
       "      <td>0.013682</td>\n",
       "      <td>0.057985</td>\n",
       "      <td>0.062300</td>\n",
       "      <td>-0.013055</td>\n",
       "      <td>0.011850</td>\n",
       "      <td>0.071797</td>\n",
       "      <td>-0.055955</td>\n",
       "      <td>...</td>\n",
       "      <td>1.000000</td>\n",
       "      <td>-0.078218</td>\n",
       "      <td>0.885772</td>\n",
       "      <td>-0.098869</td>\n",
       "      <td>0.926775</td>\n",
       "      <td>0.038799</td>\n",
       "      <td>0.052711</td>\n",
       "      <td>0.030370</td>\n",
       "      <td>0.032773</td>\n",
       "      <td>-0.060179</td>\n",
       "    </tr>\n",
       "    <tr>\n",
       "      <th>wind_speed_80_m_above_gnd</th>\n",
       "      <td>-0.184233</td>\n",
       "      <td>0.168811</td>\n",
       "      <td>-0.081926</td>\n",
       "      <td>0.116335</td>\n",
       "      <td>0.127674</td>\n",
       "      <td>0.182821</td>\n",
       "      <td>0.109176</td>\n",
       "      <td>0.087014</td>\n",
       "      <td>0.144723</td>\n",
       "      <td>-0.029066</td>\n",
       "      <td>...</td>\n",
       "      <td>-0.078218</td>\n",
       "      <td>1.000000</td>\n",
       "      <td>-0.037184</td>\n",
       "      <td>0.965911</td>\n",
       "      <td>-0.053652</td>\n",
       "      <td>0.871116</td>\n",
       "      <td>-0.042853</td>\n",
       "      <td>0.057146</td>\n",
       "      <td>0.093012</td>\n",
       "      <td>-0.140589</td>\n",
       "    </tr>\n",
       "    <tr>\n",
       "      <th>wind_direction_80_m_above_gnd</th>\n",
       "      <td>0.077669</td>\n",
       "      <td>-0.038996</td>\n",
       "      <td>-0.174687</td>\n",
       "      <td>0.020339</td>\n",
       "      <td>0.053677</td>\n",
       "      <td>0.050348</td>\n",
       "      <td>-0.006584</td>\n",
       "      <td>0.024285</td>\n",
       "      <td>0.058131</td>\n",
       "      <td>-0.033252</td>\n",
       "      <td>...</td>\n",
       "      <td>0.885772</td>\n",
       "      <td>-0.037184</td>\n",
       "      <td>1.000000</td>\n",
       "      <td>-0.054579</td>\n",
       "      <td>0.915805</td>\n",
       "      <td>0.043628</td>\n",
       "      <td>0.043326</td>\n",
       "      <td>0.015852</td>\n",
       "      <td>0.036238</td>\n",
       "      <td>-0.058950</td>\n",
       "    </tr>\n",
       "    <tr>\n",
       "      <th>wind_speed_900_mb</th>\n",
       "      <td>-0.125139</td>\n",
       "      <td>0.089278</td>\n",
       "      <td>-0.096181</td>\n",
       "      <td>0.112715</td>\n",
       "      <td>0.132404</td>\n",
       "      <td>0.171822</td>\n",
       "      <td>0.106656</td>\n",
       "      <td>0.080861</td>\n",
       "      <td>0.133034</td>\n",
       "      <td>0.075647</td>\n",
       "      <td>...</td>\n",
       "      <td>-0.098869</td>\n",
       "      <td>0.965911</td>\n",
       "      <td>-0.054579</td>\n",
       "      <td>1.000000</td>\n",
       "      <td>-0.074594</td>\n",
       "      <td>0.860320</td>\n",
       "      <td>-0.116517</td>\n",
       "      <td>-0.028832</td>\n",
       "      <td>0.180365</td>\n",
       "      <td>-0.090732</td>\n",
       "    </tr>\n",
       "    <tr>\n",
       "      <th>wind_direction_900_mb</th>\n",
       "      <td>0.038226</td>\n",
       "      <td>-0.004020</td>\n",
       "      <td>-0.145955</td>\n",
       "      <td>0.013423</td>\n",
       "      <td>0.059935</td>\n",
       "      <td>0.067840</td>\n",
       "      <td>-0.006574</td>\n",
       "      <td>0.014845</td>\n",
       "      <td>0.072571</td>\n",
       "      <td>-0.062450</td>\n",
       "      <td>...</td>\n",
       "      <td>0.926775</td>\n",
       "      <td>-0.053652</td>\n",
       "      <td>0.915805</td>\n",
       "      <td>-0.074594</td>\n",
       "      <td>1.000000</td>\n",
       "      <td>0.051257</td>\n",
       "      <td>0.055068</td>\n",
       "      <td>0.034833</td>\n",
       "      <td>0.021153</td>\n",
       "      <td>-0.066357</td>\n",
       "    </tr>\n",
       "    <tr>\n",
       "      <th>wind_gust_10_m_above_gnd</th>\n",
       "      <td>-0.139075</td>\n",
       "      <td>0.104590</td>\n",
       "      <td>-0.153069</td>\n",
       "      <td>0.136619</td>\n",
       "      <td>0.131293</td>\n",
       "      <td>0.235130</td>\n",
       "      <td>0.111058</td>\n",
       "      <td>0.094837</td>\n",
       "      <td>0.203345</td>\n",
       "      <td>0.066513</td>\n",
       "      <td>...</td>\n",
       "      <td>0.038799</td>\n",
       "      <td>0.871116</td>\n",
       "      <td>0.043628</td>\n",
       "      <td>0.860320</td>\n",
       "      <td>0.051257</td>\n",
       "      <td>1.000000</td>\n",
       "      <td>-0.114380</td>\n",
       "      <td>-0.052735</td>\n",
       "      <td>0.180525</td>\n",
       "      <td>-0.102487</td>\n",
       "    </tr>\n",
       "    <tr>\n",
       "      <th>angle_of_incidence</th>\n",
       "      <td>-0.078568</td>\n",
       "      <td>0.220580</td>\n",
       "      <td>-0.063623</td>\n",
       "      <td>-0.054096</td>\n",
       "      <td>-0.030380</td>\n",
       "      <td>-0.023922</td>\n",
       "      <td>-0.045805</td>\n",
       "      <td>-0.044088</td>\n",
       "      <td>-0.005453</td>\n",
       "      <td>-0.564515</td>\n",
       "      <td>...</td>\n",
       "      <td>0.052711</td>\n",
       "      <td>-0.042853</td>\n",
       "      <td>0.043326</td>\n",
       "      <td>-0.116517</td>\n",
       "      <td>0.055068</td>\n",
       "      <td>-0.114380</td>\n",
       "      <td>1.000000</td>\n",
       "      <td>0.705137</td>\n",
       "      <td>-0.262383</td>\n",
       "      <td>-0.669280</td>\n",
       "    </tr>\n",
       "    <tr>\n",
       "      <th>zenith</th>\n",
       "      <td>-0.543365</td>\n",
       "      <td>0.499150</td>\n",
       "      <td>0.270252</td>\n",
       "      <td>-0.029884</td>\n",
       "      <td>0.049824</td>\n",
       "      <td>0.110019</td>\n",
       "      <td>0.053528</td>\n",
       "      <td>0.006011</td>\n",
       "      <td>0.082818</td>\n",
       "      <td>-0.802391</td>\n",
       "      <td>...</td>\n",
       "      <td>0.030370</td>\n",
       "      <td>0.057146</td>\n",
       "      <td>0.015852</td>\n",
       "      <td>-0.028832</td>\n",
       "      <td>0.034833</td>\n",
       "      <td>-0.052735</td>\n",
       "      <td>0.705137</td>\n",
       "      <td>1.000000</td>\n",
       "      <td>-0.259954</td>\n",
       "      <td>-0.681905</td>\n",
       "    </tr>\n",
       "    <tr>\n",
       "      <th>azimuth</th>\n",
       "      <td>0.365839</td>\n",
       "      <td>-0.522402</td>\n",
       "      <td>-0.154981</td>\n",
       "      <td>0.039341</td>\n",
       "      <td>0.005517</td>\n",
       "      <td>0.002364</td>\n",
       "      <td>0.012909</td>\n",
       "      <td>0.072784</td>\n",
       "      <td>-0.016480</td>\n",
       "      <td>0.566361</td>\n",
       "      <td>...</td>\n",
       "      <td>0.032773</td>\n",
       "      <td>0.093012</td>\n",
       "      <td>0.036238</td>\n",
       "      <td>0.180365</td>\n",
       "      <td>0.021153</td>\n",
       "      <td>0.180525</td>\n",
       "      <td>-0.262383</td>\n",
       "      <td>-0.259954</td>\n",
       "      <td>1.000000</td>\n",
       "      <td>-0.052746</td>\n",
       "    </tr>\n",
       "    <tr>\n",
       "      <th>generated_power_kw</th>\n",
       "      <td>0.209958</td>\n",
       "      <td>-0.302937</td>\n",
       "      <td>0.146625</td>\n",
       "      <td>-0.158492</td>\n",
       "      <td>-0.056381</td>\n",
       "      <td>-0.311507</td>\n",
       "      <td>-0.124552</td>\n",
       "      <td>-0.221060</td>\n",
       "      <td>-0.266144</td>\n",
       "      <td>0.553944</td>\n",
       "      <td>...</td>\n",
       "      <td>-0.060179</td>\n",
       "      <td>-0.140589</td>\n",
       "      <td>-0.058950</td>\n",
       "      <td>-0.090732</td>\n",
       "      <td>-0.066357</td>\n",
       "      <td>-0.102487</td>\n",
       "      <td>-0.669280</td>\n",
       "      <td>-0.681905</td>\n",
       "      <td>-0.052746</td>\n",
       "      <td>1.000000</td>\n",
       "    </tr>\n",
       "  </tbody>\n",
       "</table>\n",
       "<p>21 rows × 21 columns</p>\n",
       "</div>"
      ],
      "text/plain": [
       "                                   temperature_2_m_above_gnd  \\\n",
       "temperature_2_m_above_gnd                           1.000000   \n",
       "relative_humidity_2_m_above_gnd                    -0.780716   \n",
       "mean_sea_level_pressure_MSL                        -0.402478   \n",
       "total_precipitation_sfc                            -0.113468   \n",
       "snowfall_amount_sfc                                -0.168743   \n",
       "total_cloud_cover_sfc                              -0.297001   \n",
       "high_cloud_cover_high_cld_lay                      -0.028867   \n",
       "medium_cloud_cover_mid_cld_lay                     -0.051851   \n",
       "low_cloud_cover_low_cld_lay                        -0.356894   \n",
       "shortwave_radiation_backwards_sfc                   0.660141   \n",
       "wind_speed_10_m_above_gnd                          -0.083848   \n",
       "wind_direction_10_m_above_gnd                       0.042216   \n",
       "wind_speed_80_m_above_gnd                          -0.184233   \n",
       "wind_direction_80_m_above_gnd                       0.077669   \n",
       "wind_speed_900_mb                                  -0.125139   \n",
       "wind_direction_900_mb                               0.038226   \n",
       "wind_gust_10_m_above_gnd                           -0.139075   \n",
       "angle_of_incidence                                 -0.078568   \n",
       "zenith                                             -0.543365   \n",
       "azimuth                                             0.365839   \n",
       "generated_power_kw                                  0.209958   \n",
       "\n",
       "                                   relative_humidity_2_m_above_gnd  \\\n",
       "temperature_2_m_above_gnd                                -0.780716   \n",
       "relative_humidity_2_m_above_gnd                           1.000000   \n",
       "mean_sea_level_pressure_MSL                               0.126962   \n",
       "total_precipitation_sfc                                   0.202549   \n",
       "snowfall_amount_sfc                                       0.142054   \n",
       "total_cloud_cover_sfc                                     0.384724   \n",
       "high_cloud_cover_high_cld_lay                             0.074456   \n",
       "medium_cloud_cover_mid_cld_lay                            0.099386   \n",
       "low_cloud_cover_low_cld_lay                               0.484010   \n",
       "shortwave_radiation_backwards_sfc                        -0.716035   \n",
       "wind_speed_10_m_above_gnd                                 0.054109   \n",
       "wind_direction_10_m_above_gnd                            -0.016946   \n",
       "wind_speed_80_m_above_gnd                                 0.168811   \n",
       "wind_direction_80_m_above_gnd                            -0.038996   \n",
       "wind_speed_900_mb                                         0.089278   \n",
       "wind_direction_900_mb                                    -0.004020   \n",
       "wind_gust_10_m_above_gnd                                  0.104590   \n",
       "angle_of_incidence                                        0.220580   \n",
       "zenith                                                    0.499150   \n",
       "azimuth                                                  -0.522402   \n",
       "generated_power_kw                                       -0.302937   \n",
       "\n",
       "                                   mean_sea_level_pressure_MSL  \\\n",
       "temperature_2_m_above_gnd                            -0.402478   \n",
       "relative_humidity_2_m_above_gnd                       0.126962   \n",
       "mean_sea_level_pressure_MSL                           1.000000   \n",
       "total_precipitation_sfc                              -0.233919   \n",
       "snowfall_amount_sfc                                  -0.073224   \n",
       "total_cloud_cover_sfc                                -0.185333   \n",
       "high_cloud_cover_high_cld_lay                         0.014672   \n",
       "medium_cloud_cover_mid_cld_lay                       -0.187444   \n",
       "low_cloud_cover_low_cld_lay                          -0.224647   \n",
       "shortwave_radiation_backwards_sfc                    -0.172501   \n",
       "wind_speed_10_m_above_gnd                            -0.126893   \n",
       "wind_direction_10_m_above_gnd                        -0.138542   \n",
       "wind_speed_80_m_above_gnd                            -0.081926   \n",
       "wind_direction_80_m_above_gnd                        -0.174687   \n",
       "wind_speed_900_mb                                    -0.096181   \n",
       "wind_direction_900_mb                                -0.145955   \n",
       "wind_gust_10_m_above_gnd                             -0.153069   \n",
       "angle_of_incidence                                   -0.063623   \n",
       "zenith                                                0.270252   \n",
       "azimuth                                              -0.154981   \n",
       "generated_power_kw                                    0.146625   \n",
       "\n",
       "                                   total_precipitation_sfc  \\\n",
       "temperature_2_m_above_gnd                        -0.113468   \n",
       "relative_humidity_2_m_above_gnd                   0.202549   \n",
       "mean_sea_level_pressure_MSL                      -0.233919   \n",
       "total_precipitation_sfc                           1.000000   \n",
       "snowfall_amount_sfc                               0.218508   \n",
       "total_cloud_cover_sfc                             0.292709   \n",
       "high_cloud_cover_high_cld_lay                     0.031198   \n",
       "medium_cloud_cover_mid_cld_lay                    0.291872   \n",
       "low_cloud_cover_low_cld_lay                       0.367649   \n",
       "shortwave_radiation_backwards_sfc                -0.159115   \n",
       "wind_speed_10_m_above_gnd                         0.114415   \n",
       "wind_direction_10_m_above_gnd                     0.013682   \n",
       "wind_speed_80_m_above_gnd                         0.116335   \n",
       "wind_direction_80_m_above_gnd                     0.020339   \n",
       "wind_speed_900_mb                                 0.112715   \n",
       "wind_direction_900_mb                             0.013423   \n",
       "wind_gust_10_m_above_gnd                          0.136619   \n",
       "angle_of_incidence                               -0.054096   \n",
       "zenith                                           -0.029884   \n",
       "azimuth                                           0.039341   \n",
       "generated_power_kw                               -0.158492   \n",
       "\n",
       "                                   snowfall_amount_sfc  total_cloud_cover_sfc  \\\n",
       "temperature_2_m_above_gnd                    -0.168743              -0.297001   \n",
       "relative_humidity_2_m_above_gnd               0.142054               0.384724   \n",
       "mean_sea_level_pressure_MSL                  -0.073224              -0.185333   \n",
       "total_precipitation_sfc                       0.218508               0.292709   \n",
       "snowfall_amount_sfc                           1.000000               0.137016   \n",
       "total_cloud_cover_sfc                         0.137016               1.000000   \n",
       "high_cloud_cover_high_cld_lay                -0.045309               0.488192   \n",
       "medium_cloud_cover_mid_cld_lay                0.028226               0.684639   \n",
       "low_cloud_cover_low_cld_lay                   0.175034               0.705621   \n",
       "shortwave_radiation_backwards_sfc            -0.099354              -0.309303   \n",
       "wind_speed_10_m_above_gnd                     0.135573               0.174302   \n",
       "wind_direction_10_m_above_gnd                 0.057985               0.062300   \n",
       "wind_speed_80_m_above_gnd                     0.127674               0.182821   \n",
       "wind_direction_80_m_above_gnd                 0.053677               0.050348   \n",
       "wind_speed_900_mb                             0.132404               0.171822   \n",
       "wind_direction_900_mb                         0.059935               0.067840   \n",
       "wind_gust_10_m_above_gnd                      0.131293               0.235130   \n",
       "angle_of_incidence                           -0.030380              -0.023922   \n",
       "zenith                                        0.049824               0.110019   \n",
       "azimuth                                       0.005517               0.002364   \n",
       "generated_power_kw                           -0.056381              -0.311507   \n",
       "\n",
       "                                   high_cloud_cover_high_cld_lay  \\\n",
       "temperature_2_m_above_gnd                              -0.028867   \n",
       "relative_humidity_2_m_above_gnd                         0.074456   \n",
       "mean_sea_level_pressure_MSL                             0.014672   \n",
       "total_precipitation_sfc                                 0.031198   \n",
       "snowfall_amount_sfc                                    -0.045309   \n",
       "total_cloud_cover_sfc                                   0.488192   \n",
       "high_cloud_cover_high_cld_lay                           1.000000   \n",
       "medium_cloud_cover_mid_cld_lay                          0.474669   \n",
       "low_cloud_cover_low_cld_lay                             0.003263   \n",
       "shortwave_radiation_backwards_sfc                      -0.089487   \n",
       "wind_speed_10_m_above_gnd                               0.097381   \n",
       "wind_direction_10_m_above_gnd                          -0.013055   \n",
       "wind_speed_80_m_above_gnd                               0.109176   \n",
       "wind_direction_80_m_above_gnd                          -0.006584   \n",
       "wind_speed_900_mb                                       0.106656   \n",
       "wind_direction_900_mb                                  -0.006574   \n",
       "wind_gust_10_m_above_gnd                                0.111058   \n",
       "angle_of_incidence                                     -0.045805   \n",
       "zenith                                                  0.053528   \n",
       "azimuth                                                 0.012909   \n",
       "generated_power_kw                                     -0.124552   \n",
       "\n",
       "                                   medium_cloud_cover_mid_cld_lay  \\\n",
       "temperature_2_m_above_gnd                               -0.051851   \n",
       "relative_humidity_2_m_above_gnd                          0.099386   \n",
       "mean_sea_level_pressure_MSL                             -0.187444   \n",
       "total_precipitation_sfc                                  0.291872   \n",
       "snowfall_amount_sfc                                      0.028226   \n",
       "total_cloud_cover_sfc                                    0.684639   \n",
       "high_cloud_cover_high_cld_lay                            0.474669   \n",
       "medium_cloud_cover_mid_cld_lay                           1.000000   \n",
       "low_cloud_cover_low_cld_lay                              0.286688   \n",
       "shortwave_radiation_backwards_sfc                       -0.162884   \n",
       "wind_speed_10_m_above_gnd                                0.077516   \n",
       "wind_direction_10_m_above_gnd                            0.011850   \n",
       "wind_speed_80_m_above_gnd                                0.087014   \n",
       "wind_direction_80_m_above_gnd                            0.024285   \n",
       "wind_speed_900_mb                                        0.080861   \n",
       "wind_direction_900_mb                                    0.014845   \n",
       "wind_gust_10_m_above_gnd                                 0.094837   \n",
       "angle_of_incidence                                      -0.044088   \n",
       "zenith                                                   0.006011   \n",
       "azimuth                                                  0.072784   \n",
       "generated_power_kw                                      -0.221060   \n",
       "\n",
       "                                   low_cloud_cover_low_cld_lay  \\\n",
       "temperature_2_m_above_gnd                            -0.356894   \n",
       "relative_humidity_2_m_above_gnd                       0.484010   \n",
       "mean_sea_level_pressure_MSL                          -0.224647   \n",
       "total_precipitation_sfc                               0.367649   \n",
       "snowfall_amount_sfc                                   0.175034   \n",
       "total_cloud_cover_sfc                                 0.705621   \n",
       "high_cloud_cover_high_cld_lay                         0.003263   \n",
       "medium_cloud_cover_mid_cld_lay                        0.286688   \n",
       "low_cloud_cover_low_cld_lay                           1.000000   \n",
       "shortwave_radiation_backwards_sfc                    -0.306942   \n",
       "wind_speed_10_m_above_gnd                             0.145049   \n",
       "wind_direction_10_m_above_gnd                         0.071797   \n",
       "wind_speed_80_m_above_gnd                             0.144723   \n",
       "wind_direction_80_m_above_gnd                         0.058131   \n",
       "wind_speed_900_mb                                     0.133034   \n",
       "wind_direction_900_mb                                 0.072571   \n",
       "wind_gust_10_m_above_gnd                              0.203345   \n",
       "angle_of_incidence                                   -0.005453   \n",
       "zenith                                                0.082818   \n",
       "azimuth                                              -0.016480   \n",
       "generated_power_kw                                   -0.266144   \n",
       "\n",
       "                                   shortwave_radiation_backwards_sfc  \\\n",
       "temperature_2_m_above_gnd                                   0.660141   \n",
       "relative_humidity_2_m_above_gnd                            -0.716035   \n",
       "mean_sea_level_pressure_MSL                                -0.172501   \n",
       "total_precipitation_sfc                                    -0.159115   \n",
       "snowfall_amount_sfc                                        -0.099354   \n",
       "total_cloud_cover_sfc                                      -0.309303   \n",
       "high_cloud_cover_high_cld_lay                              -0.089487   \n",
       "medium_cloud_cover_mid_cld_lay                             -0.162884   \n",
       "low_cloud_cover_low_cld_lay                                -0.306942   \n",
       "shortwave_radiation_backwards_sfc                           1.000000   \n",
       "wind_speed_10_m_above_gnd                                   0.143011   \n",
       "wind_direction_10_m_above_gnd                              -0.055955   \n",
       "wind_speed_80_m_above_gnd                                  -0.029066   \n",
       "wind_direction_80_m_above_gnd                              -0.033252   \n",
       "wind_speed_900_mb                                           0.075647   \n",
       "wind_direction_900_mb                                      -0.062450   \n",
       "wind_gust_10_m_above_gnd                                    0.066513   \n",
       "angle_of_incidence                                         -0.564515   \n",
       "zenith                                                     -0.802391   \n",
       "azimuth                                                     0.566361   \n",
       "generated_power_kw                                          0.553944   \n",
       "\n",
       "                                          ...          \\\n",
       "temperature_2_m_above_gnd                 ...           \n",
       "relative_humidity_2_m_above_gnd           ...           \n",
       "mean_sea_level_pressure_MSL               ...           \n",
       "total_precipitation_sfc                   ...           \n",
       "snowfall_amount_sfc                       ...           \n",
       "total_cloud_cover_sfc                     ...           \n",
       "high_cloud_cover_high_cld_lay             ...           \n",
       "medium_cloud_cover_mid_cld_lay            ...           \n",
       "low_cloud_cover_low_cld_lay               ...           \n",
       "shortwave_radiation_backwards_sfc         ...           \n",
       "wind_speed_10_m_above_gnd                 ...           \n",
       "wind_direction_10_m_above_gnd             ...           \n",
       "wind_speed_80_m_above_gnd                 ...           \n",
       "wind_direction_80_m_above_gnd             ...           \n",
       "wind_speed_900_mb                         ...           \n",
       "wind_direction_900_mb                     ...           \n",
       "wind_gust_10_m_above_gnd                  ...           \n",
       "angle_of_incidence                        ...           \n",
       "zenith                                    ...           \n",
       "azimuth                                   ...           \n",
       "generated_power_kw                        ...           \n",
       "\n",
       "                                   wind_direction_10_m_above_gnd  \\\n",
       "temperature_2_m_above_gnd                               0.042216   \n",
       "relative_humidity_2_m_above_gnd                        -0.016946   \n",
       "mean_sea_level_pressure_MSL                            -0.138542   \n",
       "total_precipitation_sfc                                 0.013682   \n",
       "snowfall_amount_sfc                                     0.057985   \n",
       "total_cloud_cover_sfc                                   0.062300   \n",
       "high_cloud_cover_high_cld_lay                          -0.013055   \n",
       "medium_cloud_cover_mid_cld_lay                          0.011850   \n",
       "low_cloud_cover_low_cld_lay                             0.071797   \n",
       "shortwave_radiation_backwards_sfc                      -0.055955   \n",
       "wind_speed_10_m_above_gnd                              -0.082388   \n",
       "wind_direction_10_m_above_gnd                           1.000000   \n",
       "wind_speed_80_m_above_gnd                              -0.078218   \n",
       "wind_direction_80_m_above_gnd                           0.885772   \n",
       "wind_speed_900_mb                                      -0.098869   \n",
       "wind_direction_900_mb                                   0.926775   \n",
       "wind_gust_10_m_above_gnd                                0.038799   \n",
       "angle_of_incidence                                      0.052711   \n",
       "zenith                                                  0.030370   \n",
       "azimuth                                                 0.032773   \n",
       "generated_power_kw                                     -0.060179   \n",
       "\n",
       "                                   wind_speed_80_m_above_gnd  \\\n",
       "temperature_2_m_above_gnd                          -0.184233   \n",
       "relative_humidity_2_m_above_gnd                     0.168811   \n",
       "mean_sea_level_pressure_MSL                        -0.081926   \n",
       "total_precipitation_sfc                             0.116335   \n",
       "snowfall_amount_sfc                                 0.127674   \n",
       "total_cloud_cover_sfc                               0.182821   \n",
       "high_cloud_cover_high_cld_lay                       0.109176   \n",
       "medium_cloud_cover_mid_cld_lay                      0.087014   \n",
       "low_cloud_cover_low_cld_lay                         0.144723   \n",
       "shortwave_radiation_backwards_sfc                  -0.029066   \n",
       "wind_speed_10_m_above_gnd                           0.952001   \n",
       "wind_direction_10_m_above_gnd                      -0.078218   \n",
       "wind_speed_80_m_above_gnd                           1.000000   \n",
       "wind_direction_80_m_above_gnd                      -0.037184   \n",
       "wind_speed_900_mb                                   0.965911   \n",
       "wind_direction_900_mb                              -0.053652   \n",
       "wind_gust_10_m_above_gnd                            0.871116   \n",
       "angle_of_incidence                                 -0.042853   \n",
       "zenith                                              0.057146   \n",
       "azimuth                                             0.093012   \n",
       "generated_power_kw                                 -0.140589   \n",
       "\n",
       "                                   wind_direction_80_m_above_gnd  \\\n",
       "temperature_2_m_above_gnd                               0.077669   \n",
       "relative_humidity_2_m_above_gnd                        -0.038996   \n",
       "mean_sea_level_pressure_MSL                            -0.174687   \n",
       "total_precipitation_sfc                                 0.020339   \n",
       "snowfall_amount_sfc                                     0.053677   \n",
       "total_cloud_cover_sfc                                   0.050348   \n",
       "high_cloud_cover_high_cld_lay                          -0.006584   \n",
       "medium_cloud_cover_mid_cld_lay                          0.024285   \n",
       "low_cloud_cover_low_cld_lay                             0.058131   \n",
       "shortwave_radiation_backwards_sfc                      -0.033252   \n",
       "wind_speed_10_m_above_gnd                              -0.040441   \n",
       "wind_direction_10_m_above_gnd                           0.885772   \n",
       "wind_speed_80_m_above_gnd                              -0.037184   \n",
       "wind_direction_80_m_above_gnd                           1.000000   \n",
       "wind_speed_900_mb                                      -0.054579   \n",
       "wind_direction_900_mb                                   0.915805   \n",
       "wind_gust_10_m_above_gnd                                0.043628   \n",
       "angle_of_incidence                                      0.043326   \n",
       "zenith                                                  0.015852   \n",
       "azimuth                                                 0.036238   \n",
       "generated_power_kw                                     -0.058950   \n",
       "\n",
       "                                   wind_speed_900_mb  wind_direction_900_mb  \\\n",
       "temperature_2_m_above_gnd                  -0.125139               0.038226   \n",
       "relative_humidity_2_m_above_gnd             0.089278              -0.004020   \n",
       "mean_sea_level_pressure_MSL                -0.096181              -0.145955   \n",
       "total_precipitation_sfc                     0.112715               0.013423   \n",
       "snowfall_amount_sfc                         0.132404               0.059935   \n",
       "total_cloud_cover_sfc                       0.171822               0.067840   \n",
       "high_cloud_cover_high_cld_lay               0.106656              -0.006574   \n",
       "medium_cloud_cover_mid_cld_lay              0.080861               0.014845   \n",
       "low_cloud_cover_low_cld_lay                 0.133034               0.072571   \n",
       "shortwave_radiation_backwards_sfc           0.075647              -0.062450   \n",
       "wind_speed_10_m_above_gnd                   0.988578              -0.059596   \n",
       "wind_direction_10_m_above_gnd              -0.098869               0.926775   \n",
       "wind_speed_80_m_above_gnd                   0.965911              -0.053652   \n",
       "wind_direction_80_m_above_gnd              -0.054579               0.915805   \n",
       "wind_speed_900_mb                           1.000000              -0.074594   \n",
       "wind_direction_900_mb                      -0.074594               1.000000   \n",
       "wind_gust_10_m_above_gnd                    0.860320               0.051257   \n",
       "angle_of_incidence                         -0.116517               0.055068   \n",
       "zenith                                     -0.028832               0.034833   \n",
       "azimuth                                     0.180365               0.021153   \n",
       "generated_power_kw                         -0.090732              -0.066357   \n",
       "\n",
       "                                   wind_gust_10_m_above_gnd  \\\n",
       "temperature_2_m_above_gnd                         -0.139075   \n",
       "relative_humidity_2_m_above_gnd                    0.104590   \n",
       "mean_sea_level_pressure_MSL                       -0.153069   \n",
       "total_precipitation_sfc                            0.136619   \n",
       "snowfall_amount_sfc                                0.131293   \n",
       "total_cloud_cover_sfc                              0.235130   \n",
       "high_cloud_cover_high_cld_lay                      0.111058   \n",
       "medium_cloud_cover_mid_cld_lay                     0.094837   \n",
       "low_cloud_cover_low_cld_lay                        0.203345   \n",
       "shortwave_radiation_backwards_sfc                  0.066513   \n",
       "wind_speed_10_m_above_gnd                          0.871339   \n",
       "wind_direction_10_m_above_gnd                      0.038799   \n",
       "wind_speed_80_m_above_gnd                          0.871116   \n",
       "wind_direction_80_m_above_gnd                      0.043628   \n",
       "wind_speed_900_mb                                  0.860320   \n",
       "wind_direction_900_mb                              0.051257   \n",
       "wind_gust_10_m_above_gnd                           1.000000   \n",
       "angle_of_incidence                                -0.114380   \n",
       "zenith                                            -0.052735   \n",
       "azimuth                                            0.180525   \n",
       "generated_power_kw                                -0.102487   \n",
       "\n",
       "                                   angle_of_incidence    zenith   azimuth  \\\n",
       "temperature_2_m_above_gnd                   -0.078568 -0.543365  0.365839   \n",
       "relative_humidity_2_m_above_gnd              0.220580  0.499150 -0.522402   \n",
       "mean_sea_level_pressure_MSL                 -0.063623  0.270252 -0.154981   \n",
       "total_precipitation_sfc                     -0.054096 -0.029884  0.039341   \n",
       "snowfall_amount_sfc                         -0.030380  0.049824  0.005517   \n",
       "total_cloud_cover_sfc                       -0.023922  0.110019  0.002364   \n",
       "high_cloud_cover_high_cld_lay               -0.045805  0.053528  0.012909   \n",
       "medium_cloud_cover_mid_cld_lay              -0.044088  0.006011  0.072784   \n",
       "low_cloud_cover_low_cld_lay                 -0.005453  0.082818 -0.016480   \n",
       "shortwave_radiation_backwards_sfc           -0.564515 -0.802391  0.566361   \n",
       "wind_speed_10_m_above_gnd                   -0.157210 -0.090272  0.231544   \n",
       "wind_direction_10_m_above_gnd                0.052711  0.030370  0.032773   \n",
       "wind_speed_80_m_above_gnd                   -0.042853  0.057146  0.093012   \n",
       "wind_direction_80_m_above_gnd                0.043326  0.015852  0.036238   \n",
       "wind_speed_900_mb                           -0.116517 -0.028832  0.180365   \n",
       "wind_direction_900_mb                        0.055068  0.034833  0.021153   \n",
       "wind_gust_10_m_above_gnd                    -0.114380 -0.052735  0.180525   \n",
       "angle_of_incidence                           1.000000  0.705137 -0.262383   \n",
       "zenith                                       0.705137  1.000000 -0.259954   \n",
       "azimuth                                     -0.262383 -0.259954  1.000000   \n",
       "generated_power_kw                          -0.669280 -0.681905 -0.052746   \n",
       "\n",
       "                                   generated_power_kw  \n",
       "temperature_2_m_above_gnd                    0.209958  \n",
       "relative_humidity_2_m_above_gnd             -0.302937  \n",
       "mean_sea_level_pressure_MSL                  0.146625  \n",
       "total_precipitation_sfc                     -0.158492  \n",
       "snowfall_amount_sfc                         -0.056381  \n",
       "total_cloud_cover_sfc                       -0.311507  \n",
       "high_cloud_cover_high_cld_lay               -0.124552  \n",
       "medium_cloud_cover_mid_cld_lay              -0.221060  \n",
       "low_cloud_cover_low_cld_lay                 -0.266144  \n",
       "shortwave_radiation_backwards_sfc            0.553944  \n",
       "wind_speed_10_m_above_gnd                   -0.059494  \n",
       "wind_direction_10_m_above_gnd               -0.060179  \n",
       "wind_speed_80_m_above_gnd                   -0.140589  \n",
       "wind_direction_80_m_above_gnd               -0.058950  \n",
       "wind_speed_900_mb                           -0.090732  \n",
       "wind_direction_900_mb                       -0.066357  \n",
       "wind_gust_10_m_above_gnd                    -0.102487  \n",
       "angle_of_incidence                          -0.669280  \n",
       "zenith                                      -0.681905  \n",
       "azimuth                                     -0.052746  \n",
       "generated_power_kw                           1.000000  \n",
       "\n",
       "[21 rows x 21 columns]"
      ]
     },
     "execution_count": 106,
     "metadata": {},
     "output_type": "execute_result"
    }
   ],
   "source": [
    "matrix = df.corr(\n",
    "method='spearman'\n",
    ")\n",
    "matrix"
   ]
  },
  {
   "cell_type": "code",
   "execution_count": 119,
   "metadata": {},
   "outputs": [
    {
     "data": {
      "image/png": "[encoded data removed]",
      "text/plain": [
       "<Figure size 1440x720 with 2 Axes>"
      ]
     },
     "metadata": {},
     "output_type": "display_data"
    }
   ],
   "source": [
    "\n",
    "matrix = df.corr()\n",
    "sns.heatmap(matrix, annot=True)\n",
    "fig = plt.gcf()\n",
    "\n",
    "# Change seaborn plot size\n",
    "fig.set_size_inches(20, 10)\n",
    "plt.show()"
   ]
  },
  {
   "cell_type": "code",
   "execution_count": 3,
   "metadata": {},
   "outputs": [
    {
     "data": {
      "text/plain": [
       "array([[1.        , 0.21727973],\n",
       "       [0.21727973, 1.        ]])"
      ]
     },
     "execution_count": 3,
     "metadata": {},
     "output_type": "execute_result"
    }
   ],
   "source": [
    "#Covariance of temprature_2_m_above_gnd and generated power \n",
    "cov_of_temp_and_power=np.corrcoef([df.temperature_2_m_above_gnd,df.generated_power_kw])\n",
    "cov_of_temp_and_power"
   ]
  },
  {
   "cell_type": "code",
   "execution_count": 4,
   "metadata": {},
   "outputs": [
    {
     "data": {
      "text/plain": [
       "array([[1.       , 0.1505512],\n",
       "       [0.1505512, 1.       ]])"
      ]
     },
     "execution_count": 4,
     "metadata": {},
     "output_type": "execute_result"
    }
   ],
   "source": [
    "#Covariance of mean_sea_level_pressure_MSL and generated power \n",
    "cov_of_temp_and_power=np.corrcoef([df.mean_sea_level_pressure_MSL,df.generated_power_kw])\n",
    "cov_of_temp_and_power"
   ]
  },
  {
   "cell_type": "code",
   "execution_count": 5,
   "metadata": {},
   "outputs": [
    {
     "data": {
      "text/plain": [
       "array([[1.        , 0.55614805],\n",
       "       [0.55614805, 1.        ]])"
      ]
     },
     "execution_count": 5,
     "metadata": {},
     "output_type": "execute_result"
    }
   ],
   "source": [
    "#Covariance of shortwave_radiation_backwards_sfc and generated power \n",
    "cov_of_temp_and_power=np.corrcoef([df.shortwave_radiation_backwards_sfc,df.generated_power_kw])\n",
    "cov_of_temp_and_power"
   ]
  },
  {
   "cell_type": "markdown",
   "metadata": {},
   "source": [
    "## Negative Correlation "
   ]
  },
  {
   "cell_type": "code",
   "execution_count": 6,
   "metadata": {},
   "outputs": [
    {
     "data": {
      "text/plain": [
       "array([[ 1.        , -0.33678296],\n",
       "       [-0.33678296,  1.        ]])"
      ]
     },
     "execution_count": 6,
     "metadata": {},
     "output_type": "execute_result"
    }
   ],
   "source": [
    "#Covariance of humidity and generated power \n",
    "cov_of_temp_and_power=np.corrcoef([df.relative_humidity_2_m_above_gnd,df.generated_power_kw])\n",
    "cov_of_temp_and_power"
   ]
  },
  {
   "cell_type": "code",
   "execution_count": 7,
   "metadata": {},
   "outputs": [
    {
     "data": {
      "text/plain": [
       "array([[ 1.        , -0.11844178],\n",
       "       [-0.11844178,  1.        ]])"
      ]
     },
     "execution_count": 7,
     "metadata": {},
     "output_type": "execute_result"
    }
   ],
   "source": [
    "#Covariance of total_precipitation_sfc and generated power \n",
    "cov_of_temp_and_power=np.corrcoef([df.total_precipitation_sfc,df.generated_power_kw])\n",
    "cov_of_temp_and_power"
   ]
  },
  {
   "cell_type": "code",
   "execution_count": 8,
   "metadata": {},
   "outputs": [
    {
     "data": {
      "text/plain": [
       "array([[ 1.        , -0.04950811],\n",
       "       [-0.04950811,  1.        ]])"
      ]
     },
     "execution_count": 8,
     "metadata": {},
     "output_type": "execute_result"
    }
   ],
   "source": [
    "#Covariance of snowfall_amount_sfc and generated power \n",
    "cov_of_temp_and_power=np.corrcoef([df.snowfall_amount_sfc,df.generated_power_kw])\n",
    "cov_of_temp_and_power"
   ]
  },
  {
   "cell_type": "code",
   "execution_count": 9,
   "metadata": {},
   "outputs": [
    {
     "data": {
      "text/plain": [
       "array([[ 1.        , -0.33433834],\n",
       "       [-0.33433834,  1.        ]])"
      ]
     },
     "execution_count": 9,
     "metadata": {},
     "output_type": "execute_result"
    }
   ],
   "source": [
    "#Covariance of total_cloud_cover_sfc and generated power \n",
    "cov_of_temp_and_power=np.corrcoef([df.total_cloud_cover_sfc,df.generated_power_kw])\n",
    "cov_of_temp_and_power"
   ]
  },
  {
   "cell_type": "code",
   "execution_count": 10,
   "metadata": {},
   "outputs": [
    {
     "data": {
      "text/plain": [
       "array([[ 1.        , -0.14772292],\n",
       "       [-0.14772292,  1.        ]])"
      ]
     },
     "execution_count": 10,
     "metadata": {},
     "output_type": "execute_result"
    }
   ],
   "source": [
    "#Covariance of high_cloud_cover_high_cld_lay and generated power \n",
    "cov_of_temp_and_power=np.corrcoef([df.high_cloud_cover_high_cld_lay,df.generated_power_kw])\n",
    "cov_of_temp_and_power"
   ]
  },
  {
   "cell_type": "code",
   "execution_count": 11,
   "metadata": {},
   "outputs": [
    {
     "data": {
      "text/plain": [
       "array([[ 1.        , -0.22783393],\n",
       "       [-0.22783393,  1.        ]])"
      ]
     },
     "execution_count": 11,
     "metadata": {},
     "output_type": "execute_result"
    }
   ],
   "source": [
    "#Covariance of medium_cloud_cover_mid_cld_lay and generated power \n",
    "cov_of_temp_and_power=np.corrcoef([df.medium_cloud_cover_mid_cld_lay,df.generated_power_kw])\n",
    "cov_of_temp_and_power"
   ]
  },
  {
   "cell_type": "code",
   "execution_count": 12,
   "metadata": {},
   "outputs": [
    {
     "data": {
      "text/plain": [
       "array([[ 1.       , -0.2880663],\n",
       "       [-0.2880663,  1.       ]])"
      ]
     },
     "execution_count": 12,
     "metadata": {},
     "output_type": "execute_result"
    }
   ],
   "source": [
    "#Covariance of low_cloud_cover_low_cld_lay and generated power \n",
    "cov_of_temp_and_power=np.corrcoef([df.low_cloud_cover_low_cld_lay,df.generated_power_kw])\n",
    "cov_of_temp_and_power"
   ]
  },
  {
   "cell_type": "code",
   "execution_count": 13,
   "metadata": {},
   "outputs": [
    {
     "data": {
      "text/plain": [
       "array([[ 1.        , -0.08304342],\n",
       "       [-0.08304342,  1.        ]])"
      ]
     },
     "execution_count": 13,
     "metadata": {},
     "output_type": "execute_result"
    }
   ],
   "source": [
    "#Covariance of wind_speed_10_m_above_gnd and generated power \n",
    "cov_of_temp_and_power=np.corrcoef([df.wind_speed_10_m_above_gnd,df.generated_power_kw])\n",
    "cov_of_temp_and_power"
   ]
  },
  {
   "cell_type": "code",
   "execution_count": 14,
   "metadata": {},
   "outputs": [
    {
     "data": {
      "text/plain": [
       "array([[ 1.        , -0.15789862],\n",
       "       [-0.15789862,  1.        ]])"
      ]
     },
     "execution_count": 14,
     "metadata": {},
     "output_type": "execute_result"
    }
   ],
   "source": [
    "#Covariance of wind_speed_80_m_above_gnd and generated power \n",
    "cov_of_temp_and_power=np.corrcoef([df.wind_speed_80_m_above_gnd,df.generated_power_kw])\n",
    "cov_of_temp_and_power"
   ]
  },
  {
   "cell_type": "code",
   "execution_count": 15,
   "metadata": {},
   "outputs": [
    {
     "data": {
      "text/plain": [
       "array([[ 1.        , -0.07325671],\n",
       "       [-0.07325671,  1.        ]])"
      ]
     },
     "execution_count": 15,
     "metadata": {},
     "output_type": "execute_result"
    }
   ],
   "source": [
    "#Covariance of wind_direction_10_m_above_gnd and generated power \n",
    "cov_of_temp_and_power=np.corrcoef([df.wind_direction_10_m_above_gnd,df.generated_power_kw])\n",
    "cov_of_temp_and_power"
   ]
  },
  {
   "cell_type": "code",
   "execution_count": 16,
   "metadata": {},
   "outputs": [
    {
     "data": {
      "text/plain": [
       "array([[ 1.        , -0.06994109],\n",
       "       [-0.06994109,  1.        ]])"
      ]
     },
     "execution_count": 16,
     "metadata": {},
     "output_type": "execute_result"
    }
   ],
   "source": [
    "#Covariance of wind_direction_80_m_above_gnd and generated power \n",
    "cov_of_temp_and_power=np.corrcoef([df.wind_direction_80_m_above_gnd,df.generated_power_kw])\n",
    "cov_of_temp_and_power"
   ]
  },
  {
   "cell_type": "code",
   "execution_count": 17,
   "metadata": {},
   "outputs": [
    {
     "data": {
      "text/plain": [
       "array([[ 1.       , -0.1076153],\n",
       "       [-0.1076153,  1.       ]])"
      ]
     },
     "execution_count": 17,
     "metadata": {},
     "output_type": "execute_result"
    }
   ],
   "source": [
    "#Covariance of wind_speed_900_mb and generated power \n",
    "cov_of_temp_and_power=np.corrcoef([df.wind_speed_900_mb,df.generated_power_kw])\n",
    "cov_of_temp_and_power"
   ]
  },
  {
   "cell_type": "code",
   "execution_count": 18,
   "metadata": {},
   "outputs": [
    {
     "data": {
      "text/plain": [
       "array([[ 1.        , -0.12280781],\n",
       "       [-0.12280781,  1.        ]])"
      ]
     },
     "execution_count": 18,
     "metadata": {},
     "output_type": "execute_result"
    }
   ],
   "source": [
    "#Covariance of wind_gust_10_m_above_gnd and generated power \n",
    "cov_of_temp_and_power=np.corrcoef([df.wind_gust_10_m_above_gnd,df.generated_power_kw])\n",
    "cov_of_temp_and_power"
   ]
  },
  {
   "cell_type": "code",
   "execution_count": 19,
   "metadata": {},
   "outputs": [
    {
     "data": {
      "text/plain": [
       "array([[ 1.        , -0.64653709],\n",
       "       [-0.64653709,  1.        ]])"
      ]
     },
     "execution_count": 19,
     "metadata": {},
     "output_type": "execute_result"
    }
   ],
   "source": [
    "#Covariance of angle_of_incidence and generated power \n",
    "cov_of_temp_and_power=np.corrcoef([df.angle_of_incidence,df.generated_power_kw])\n",
    "cov_of_temp_and_power"
   ]
  },
  {
   "cell_type": "code",
   "execution_count": 20,
   "metadata": {},
   "outputs": [
    {
     "data": {
      "text/plain": [
       "array([[ 1.        , -0.64999093],\n",
       "       [-0.64999093,  1.        ]])"
      ]
     },
     "execution_count": 20,
     "metadata": {},
     "output_type": "execute_result"
    }
   ],
   "source": [
    "#Covariance of zenith and generated power \n",
    "cov_of_temp_and_power=np.corrcoef([df.zenith,df.generated_power_kw])\n",
    "cov_of_temp_and_power"
   ]
  },
  {
   "cell_type": "code",
   "execution_count": 21,
   "metadata": {
    "scrolled": true
   },
   "outputs": [
    {
     "data": {
      "text/plain": [
       "array([[ 1.        , -0.06118386],\n",
       "       [-0.06118386,  1.        ]])"
      ]
     },
     "execution_count": 21,
     "metadata": {},
     "output_type": "execute_result"
    }
   ],
   "source": [
    "#Covariance of azimuth and generated power \n",
    "cov_of_temp_and_power=np.corrcoef([df.azimuth,df.generated_power_kw])\n",
    "cov_of_temp_and_power"
   ]
  },
  {
   "cell_type": "code",
   "execution_count": 22,
   "metadata": {},
   "outputs": [
    {
     "data": {
      "text/plain": [
       "array([[ 1.        , -0.06118386],\n",
       "       [-0.06118386,  1.        ]])"
      ]
     },
     "execution_count": 22,
     "metadata": {},
     "output_type": "execute_result"
    }
   ],
   "source": [
    "#Covariance of azimuth and generated power \n",
    "cov_of_temp_and_power=np.corrcoef([df.azimuth,df.generated_power_kw])\n",
    "cov_of_temp_and_power"
   ]
  },
  {
   "cell_type": "code",
   "execution_count": 23,
   "metadata": {},
   "outputs": [
    {
     "data": {
      "text/plain": [
       "Index(['temperature_2_m_above_gnd', 'relative_humidity_2_m_above_gnd',\n",
       "       'mean_sea_level_pressure_MSL', 'total_precipitation_sfc',\n",
       "       'snowfall_amount_sfc', 'total_cloud_cover_sfc',\n",
       "       'high_cloud_cover_high_cld_lay', 'medium_cloud_cover_mid_cld_lay',\n",
       "       'low_cloud_cover_low_cld_lay', 'shortwave_radiation_backwards_sfc',\n",
       "       'wind_speed_10_m_above_gnd', 'wind_direction_10_m_above_gnd',\n",
       "       'wind_speed_80_m_above_gnd', 'wind_direction_80_m_above_gnd',\n",
       "       'wind_speed_900_mb', 'wind_direction_900_mb',\n",
       "       'wind_gust_10_m_above_gnd', 'angle_of_incidence', 'zenith', 'azimuth',\n",
       "       'generated_power_kw'],\n",
       "      dtype='object')"
      ]
     },
     "execution_count": 23,
     "metadata": {},
     "output_type": "execute_result"
    }
   ],
   "source": [
    "df.columns\n"
   ]
  },
  {
   "cell_type": "code",
   "execution_count": 24,
   "metadata": {
    "scrolled": true
   },
   "outputs": [
    {
     "data": {
      "text/plain": [
       "(array([ 78., 254., 461., 642., 678., 722., 479., 378., 329., 192.]),\n",
       " array([-5.35 , -1.325,  2.7  ,  6.725, 10.75 , 14.775, 18.8  , 22.825,\n",
       "        26.85 , 30.875, 34.9  ]),\n",
       " <a list of 10 Patch objects>)"
      ]
     },
     "execution_count": 24,
     "metadata": {},
     "output_type": "execute_result"
    },
    {
     "data": {
      "image/png": "[encoded data removed]",
      "text/plain": [
       "<Figure size 432x288 with 1 Axes>"
      ]
     },
     "metadata": {},
     "output_type": "display_data"
    }
   ],
   "source": [
    "plt.hist(df.temperature_2_m_above_gnd)\n",
    "\n"
   ]
  },
  {
   "cell_type": "code",
   "execution_count": 25,
   "metadata": {},
   "outputs": [
    {
     "data": {
      "text/plain": [
       "(array([137., 510., 599., 651., 506., 428., 411., 358., 299., 314.]),\n",
       " array([  7. ,  16.3,  25.6,  34.9,  44.2,  53.5,  62.8,  72.1,  81.4,\n",
       "         90.7, 100. ]),\n",
       " <a list of 10 Patch objects>)"
      ]
     },
     "execution_count": 25,
     "metadata": {},
     "output_type": "execute_result"
    },
    {
     "data": {
      "image/png": "[encoded data removed]",
      "text/plain": [
       "<Figure size 432x288 with 1 Axes>"
      ]
     },
     "metadata": {},
     "output_type": "display_data"
    }
   ],
   "source": [
    "plt.hist(df.relative_humidity_2_m_above_gnd)"
   ]
  },
  {
   "cell_type": "code",
   "execution_count": 98,
   "metadata": {
    "scrolled": true
   },
   "outputs": [
    {
     "data": {
      "text/plain": [
       "(array([4.097e+03, 6.000e+01, 2.000e+01, 1.100e+01, 1.200e+01, 6.000e+00,\n",
       "        5.000e+00, 1.000e+00, 0.000e+00, 1.000e+00]),\n",
       " array([0.  , 0.32, 0.64, 0.96, 1.28, 1.6 , 1.92, 2.24, 2.56, 2.88, 3.2 ]),\n",
       " <a list of 10 Patch objects>)"
      ]
     },
     "execution_count": 98,
     "metadata": {},
     "output_type": "execute_result"
    },
    {
     "data": {
      "image/png": "[encoded data removed]",
      "text/plain": [
       "<Figure size 432x288 with 1 Axes>"
      ]
     },
     "metadata": {},
     "output_type": "display_data"
    }
   ],
   "source": [
    "plt.hist(df.total_precipitation_sfc)"
   ]
  },
  {
   "cell_type": "code",
   "execution_count": 27,
   "metadata": {
    "scrolled": true
   },
   "outputs": [
    {
     "data": {
      "text/plain": [
       "(array([4.189e+03, 1.400e+01, 6.000e+00, 3.000e+00, 0.000e+00, 0.000e+00,\n",
       "        0.000e+00, 0.000e+00, 0.000e+00, 1.000e+00]),\n",
       " array([0.   , 0.168, 0.336, 0.504, 0.672, 0.84 , 1.008, 1.176, 1.344,\n",
       "        1.512, 1.68 ]),\n",
       " <a list of 10 Patch objects>)"
      ]
     },
     "execution_count": 27,
     "metadata": {},
     "output_type": "execute_result"
    },
    {
     "data": {
      "image/png": "[encoded data removed]",
      "text/plain": [
       "<Figure size 432x288 with 1 Axes>"
      ]
     },
     "metadata": {},
     "output_type": "display_data"
    }
   ],
   "source": [
    "plt.hist(df.snowfall_amount_sfc)"
   ]
  },
  {
   "cell_type": "code",
   "execution_count": 28,
   "metadata": {
    "scrolled": true
   },
   "outputs": [
    {
     "data": {
      "text/plain": [
       "(array([2141.,  436.,   83.,  136.,   76.,   52.,   66.,   61.,   49.,\n",
       "        1113.]),\n",
       " array([  0.,  10.,  20.,  30.,  40.,  50.,  60.,  70.,  80.,  90., 100.]),\n",
       " <a list of 10 Patch objects>)"
      ]
     },
     "execution_count": 28,
     "metadata": {},
     "output_type": "execute_result"
    },
    {
     "data": {
      "image/png": "[encoded data removed]",
      "text/plain": [
       "<Figure size 432x288 with 1 Axes>"
      ]
     },
     "metadata": {},
     "output_type": "display_data"
    }
   ],
   "source": [
    "plt.hist(df.total_cloud_cover_sfc)"
   ]
  },
  {
   "cell_type": "code",
   "execution_count": 29,
   "metadata": {
    "scrolled": true
   },
   "outputs": [
    {
     "data": {
      "text/plain": [
       "(array([3169.,  217.,  184.,   98.,   43.,   33.,   20.,   25.,   16.,\n",
       "         408.]),\n",
       " array([  0.,  10.,  20.,  30.,  40.,  50.,  60.,  70.,  80.,  90., 100.]),\n",
       " <a list of 10 Patch objects>)"
      ]
     },
     "execution_count": 29,
     "metadata": {},
     "output_type": "execute_result"
    },
    {
     "data": {
      "image/png": "[encoded data removed]",
      "text/plain": [
       "<Figure size 432x288 with 1 Axes>"
      ]
     },
     "metadata": {},
     "output_type": "display_data"
    }
   ],
   "source": [
    "plt.hist(df.high_cloud_cover_high_cld_lay)"
   ]
  },
  {
   "cell_type": "code",
   "execution_count": 30,
   "metadata": {
    "scrolled": true
   },
   "outputs": [
    {
     "data": {
      "text/plain": [
       "(array([905., 295., 413., 489., 517., 427., 340., 308., 292., 227.]),\n",
       " array([  0.  ,  95.23, 190.46, 285.69, 380.92, 476.15, 571.38, 666.61,\n",
       "        761.84, 857.07, 952.3 ]),\n",
       " <a list of 10 Patch objects>)"
      ]
     },
     "execution_count": 30,
     "metadata": {},
     "output_type": "execute_result"
    },
    {
     "data": {
      "image/png": "[encoded data removed]",
      "text/plain": [
       "<Figure size 432x288 with 1 Axes>"
      ]
     },
     "metadata": {},
     "output_type": "display_data"
    }
   ],
   "source": [
    "plt.hist(df.shortwave_radiation_backwards_sfc)"
   ]
  },
  {
   "cell_type": "code",
   "execution_count": 31,
   "metadata": {
    "scrolled": true
   },
   "outputs": [
    {
     "data": {
      "text/plain": [
       "(array([321., 448., 566., 756., 963., 706., 331., 104.,   6.,  12.]),\n",
       " array([ 17.727761 ,  28.7965219,  39.8652828,  50.9340437,  62.0028046,\n",
       "         73.0715655,  84.1403264,  95.2090873, 106.2778482, 117.3466091,\n",
       "        128.41537  ]),\n",
       " <a list of 10 Patch objects>)"
      ]
     },
     "execution_count": 31,
     "metadata": {},
     "output_type": "execute_result"
    },
    {
     "data": {
      "image/png": "[encoded data removed]",
      "text/plain": [
       "<Figure size 432x288 with 1 Axes>"
      ]
     },
     "metadata": {},
     "output_type": "display_data"
    }
   ],
   "source": [
    "plt.hist(df.zenith)"
   ]
  },
  {
   "cell_type": "code",
   "execution_count": 32,
   "metadata": {
    "scrolled": true
   },
   "outputs": [
    {
     "data": {
      "text/plain": [
       "(array([304., 448., 576., 491., 418., 353., 407., 482., 434., 300.]),\n",
       " array([ 54.379093 ,  77.8457017, 101.3123104, 124.7789191, 148.2455278,\n",
       "        171.7121365, 195.1787452, 218.6453539, 242.1119626, 265.5785713,\n",
       "        289.04518  ]),\n",
       " <a list of 10 Patch objects>)"
      ]
     },
     "execution_count": 32,
     "metadata": {},
     "output_type": "execute_result"
    },
    {
     "data": {
      "image/png": "[encoded data removed]",
      "text/plain": [
       "<Figure size 432x288 with 1 Axes>"
      ]
     },
     "metadata": {},
     "output_type": "display_data"
    }
   ],
   "source": [
    "plt.hist(df.azimuth)"
   ]
  },
  {
   "cell_type": "code",
   "execution_count": 33,
   "metadata": {},
   "outputs": [
    {
     "data": {
      "text/plain": [
       "(array([264., 672., 779., 597., 578., 449., 346., 254., 183.,  91.]),\n",
       " array([  3.7553228 ,  15.54338252,  27.33144224,  39.11950196,\n",
       "         50.90756168,  62.6956214 ,  74.48368112,  86.27174084,\n",
       "         98.05980056, 109.84786028, 121.63592   ]),\n",
       " <a list of 10 Patch objects>)"
      ]
     },
     "execution_count": 33,
     "metadata": {},
     "output_type": "execute_result"
    },
    {
     "data": {
      "image/png": "[encoded data removed]",
      "text/plain": [
       "<Figure size 432x288 with 1 Axes>"
      ]
     },
     "metadata": {},
     "output_type": "display_data"
    }
   ],
   "source": [
    "plt.hist(df.angle_of_incidence)"
   ]
  },
  {
   "cell_type": "markdown",
   "metadata": {},
   "source": [
    "## Removing Outliers by finding the percentile"
   ]
  },
  {
   "cell_type": "code",
   "execution_count": 34,
   "metadata": {
    "scrolled": false
   },
   "outputs": [
    {
     "data": {
      "text/html": [
       "<div>\n",
       "<style scoped>\n",
       "    .dataframe tbody tr th:only-of-type {\n",
       "        vertical-align: middle;\n",
       "    }\n",
       "\n",
       "    .dataframe tbody tr th {\n",
       "        vertical-align: top;\n",
       "    }\n",
       "\n",
       "    .dataframe thead th {\n",
       "        text-align: right;\n",
       "    }\n",
       "</style>\n",
       "<table border=\"1\" class=\"dataframe\">\n",
       "  <thead>\n",
       "    <tr style=\"text-align: right;\">\n",
       "      <th></th>\n",
       "      <th>temperature_2_m_above_gnd</th>\n",
       "      <th>relative_humidity_2_m_above_gnd</th>\n",
       "      <th>mean_sea_level_pressure_MSL</th>\n",
       "      <th>total_precipitation_sfc</th>\n",
       "      <th>snowfall_amount_sfc</th>\n",
       "      <th>total_cloud_cover_sfc</th>\n",
       "      <th>high_cloud_cover_high_cld_lay</th>\n",
       "      <th>medium_cloud_cover_mid_cld_lay</th>\n",
       "      <th>low_cloud_cover_low_cld_lay</th>\n",
       "      <th>shortwave_radiation_backwards_sfc</th>\n",
       "      <th>...</th>\n",
       "      <th>wind_direction_10_m_above_gnd</th>\n",
       "      <th>wind_speed_80_m_above_gnd</th>\n",
       "      <th>wind_direction_80_m_above_gnd</th>\n",
       "      <th>wind_speed_900_mb</th>\n",
       "      <th>wind_direction_900_mb</th>\n",
       "      <th>wind_gust_10_m_above_gnd</th>\n",
       "      <th>angle_of_incidence</th>\n",
       "      <th>zenith</th>\n",
       "      <th>azimuth</th>\n",
       "      <th>generated_power_kw</th>\n",
       "    </tr>\n",
       "  </thead>\n",
       "  <tbody>\n",
       "    <tr>\n",
       "      <th>count</th>\n",
       "      <td>4213.000000</td>\n",
       "      <td>4213.000000</td>\n",
       "      <td>4213.000000</td>\n",
       "      <td>4213.000000</td>\n",
       "      <td>4213.000000</td>\n",
       "      <td>4213.000000</td>\n",
       "      <td>4213.000000</td>\n",
       "      <td>4213.000000</td>\n",
       "      <td>4213.000000</td>\n",
       "      <td>4213.000000</td>\n",
       "      <td>...</td>\n",
       "      <td>4213.000000</td>\n",
       "      <td>4213.000000</td>\n",
       "      <td>4213.000000</td>\n",
       "      <td>4213.00000</td>\n",
       "      <td>4213.000000</td>\n",
       "      <td>4213.000000</td>\n",
       "      <td>4213.000000</td>\n",
       "      <td>4213.000000</td>\n",
       "      <td>4213.000000</td>\n",
       "      <td>4213.000000</td>\n",
       "    </tr>\n",
       "    <tr>\n",
       "      <th>mean</th>\n",
       "      <td>15.068111</td>\n",
       "      <td>51.361025</td>\n",
       "      <td>1019.337812</td>\n",
       "      <td>0.031759</td>\n",
       "      <td>0.002808</td>\n",
       "      <td>34.056990</td>\n",
       "      <td>14.458818</td>\n",
       "      <td>20.023499</td>\n",
       "      <td>21.373368</td>\n",
       "      <td>387.759036</td>\n",
       "      <td>...</td>\n",
       "      <td>195.078452</td>\n",
       "      <td>18.978483</td>\n",
       "      <td>191.166862</td>\n",
       "      <td>16.36319</td>\n",
       "      <td>192.447911</td>\n",
       "      <td>20.583489</td>\n",
       "      <td>50.837490</td>\n",
       "      <td>59.980947</td>\n",
       "      <td>169.167651</td>\n",
       "      <td>1134.347313</td>\n",
       "    </tr>\n",
       "    <tr>\n",
       "      <th>std</th>\n",
       "      <td>8.853677</td>\n",
       "      <td>23.525864</td>\n",
       "      <td>7.022867</td>\n",
       "      <td>0.170212</td>\n",
       "      <td>0.038015</td>\n",
       "      <td>42.843638</td>\n",
       "      <td>30.711707</td>\n",
       "      <td>36.387948</td>\n",
       "      <td>38.013885</td>\n",
       "      <td>278.459293</td>\n",
       "      <td>...</td>\n",
       "      <td>106.626782</td>\n",
       "      <td>11.999960</td>\n",
       "      <td>108.760021</td>\n",
       "      <td>9.88533</td>\n",
       "      <td>106.516195</td>\n",
       "      <td>12.648899</td>\n",
       "      <td>26.638965</td>\n",
       "      <td>19.857711</td>\n",
       "      <td>64.568385</td>\n",
       "      <td>937.957247</td>\n",
       "    </tr>\n",
       "    <tr>\n",
       "      <th>min</th>\n",
       "      <td>-5.350000</td>\n",
       "      <td>7.000000</td>\n",
       "      <td>997.500000</td>\n",
       "      <td>0.000000</td>\n",
       "      <td>0.000000</td>\n",
       "      <td>0.000000</td>\n",
       "      <td>0.000000</td>\n",
       "      <td>0.000000</td>\n",
       "      <td>0.000000</td>\n",
       "      <td>0.000000</td>\n",
       "      <td>...</td>\n",
       "      <td>0.540000</td>\n",
       "      <td>0.000000</td>\n",
       "      <td>1.120000</td>\n",
       "      <td>0.00000</td>\n",
       "      <td>1.120000</td>\n",
       "      <td>0.720000</td>\n",
       "      <td>3.755323</td>\n",
       "      <td>17.727761</td>\n",
       "      <td>54.379093</td>\n",
       "      <td>0.000595</td>\n",
       "    </tr>\n",
       "    <tr>\n",
       "      <th>25%</th>\n",
       "      <td>8.390000</td>\n",
       "      <td>32.000000</td>\n",
       "      <td>1014.500000</td>\n",
       "      <td>0.000000</td>\n",
       "      <td>0.000000</td>\n",
       "      <td>0.000000</td>\n",
       "      <td>0.000000</td>\n",
       "      <td>0.000000</td>\n",
       "      <td>0.000000</td>\n",
       "      <td>142.400000</td>\n",
       "      <td>...</td>\n",
       "      <td>153.190000</td>\n",
       "      <td>10.140000</td>\n",
       "      <td>130.240000</td>\n",
       "      <td>9.18000</td>\n",
       "      <td>148.220000</td>\n",
       "      <td>11.160000</td>\n",
       "      <td>29.408181</td>\n",
       "      <td>45.291631</td>\n",
       "      <td>114.136600</td>\n",
       "      <td>231.700450</td>\n",
       "    </tr>\n",
       "    <tr>\n",
       "      <th>50%</th>\n",
       "      <td>14.750000</td>\n",
       "      <td>48.000000</td>\n",
       "      <td>1018.100000</td>\n",
       "      <td>0.000000</td>\n",
       "      <td>0.000000</td>\n",
       "      <td>8.700000</td>\n",
       "      <td>0.000000</td>\n",
       "      <td>0.000000</td>\n",
       "      <td>0.000000</td>\n",
       "      <td>381.810000</td>\n",
       "      <td>...</td>\n",
       "      <td>191.770000</td>\n",
       "      <td>16.240000</td>\n",
       "      <td>187.770000</td>\n",
       "      <td>14.49000</td>\n",
       "      <td>187.990000</td>\n",
       "      <td>18.000000</td>\n",
       "      <td>47.335557</td>\n",
       "      <td>62.142611</td>\n",
       "      <td>163.241650</td>\n",
       "      <td>971.642650</td>\n",
       "    </tr>\n",
       "    <tr>\n",
       "      <th>75%</th>\n",
       "      <td>21.290000</td>\n",
       "      <td>70.000000</td>\n",
       "      <td>1023.600000</td>\n",
       "      <td>0.000000</td>\n",
       "      <td>0.000000</td>\n",
       "      <td>100.000000</td>\n",
       "      <td>9.000000</td>\n",
       "      <td>10.000000</td>\n",
       "      <td>10.000000</td>\n",
       "      <td>599.860000</td>\n",
       "      <td>...</td>\n",
       "      <td>292.070000</td>\n",
       "      <td>26.140000</td>\n",
       "      <td>292.040000</td>\n",
       "      <td>21.97000</td>\n",
       "      <td>288.000000</td>\n",
       "      <td>27.000000</td>\n",
       "      <td>69.197492</td>\n",
       "      <td>74.346737</td>\n",
       "      <td>225.085620</td>\n",
       "      <td>2020.966700</td>\n",
       "    </tr>\n",
       "    <tr>\n",
       "      <th>max</th>\n",
       "      <td>34.900000</td>\n",
       "      <td>100.000000</td>\n",
       "      <td>1046.800000</td>\n",
       "      <td>3.200000</td>\n",
       "      <td>1.680000</td>\n",
       "      <td>100.000000</td>\n",
       "      <td>100.000000</td>\n",
       "      <td>100.000000</td>\n",
       "      <td>100.000000</td>\n",
       "      <td>952.300000</td>\n",
       "      <td>...</td>\n",
       "      <td>360.000000</td>\n",
       "      <td>66.880000</td>\n",
       "      <td>360.000000</td>\n",
       "      <td>61.11000</td>\n",
       "      <td>360.000000</td>\n",
       "      <td>84.960000</td>\n",
       "      <td>121.635920</td>\n",
       "      <td>128.415370</td>\n",
       "      <td>289.045180</td>\n",
       "      <td>3056.794100</td>\n",
       "    </tr>\n",
       "  </tbody>\n",
       "</table>\n",
       "<p>8 rows × 21 columns</p>\n",
       "</div>"
      ],
      "text/plain": [
       "       temperature_2_m_above_gnd  relative_humidity_2_m_above_gnd  \\\n",
       "count                4213.000000                      4213.000000   \n",
       "mean                   15.068111                        51.361025   \n",
       "std                     8.853677                        23.525864   \n",
       "min                    -5.350000                         7.000000   \n",
       "25%                     8.390000                        32.000000   \n",
       "50%                    14.750000                        48.000000   \n",
       "75%                    21.290000                        70.000000   \n",
       "max                    34.900000                       100.000000   \n",
       "\n",
       "       mean_sea_level_pressure_MSL  total_precipitation_sfc  \\\n",
       "count                  4213.000000              4213.000000   \n",
       "mean                   1019.337812                 0.031759   \n",
       "std                       7.022867                 0.170212   \n",
       "min                     997.500000                 0.000000   \n",
       "25%                    1014.500000                 0.000000   \n",
       "50%                    1018.100000                 0.000000   \n",
       "75%                    1023.600000                 0.000000   \n",
       "max                    1046.800000                 3.200000   \n",
       "\n",
       "       snowfall_amount_sfc  total_cloud_cover_sfc  \\\n",
       "count          4213.000000            4213.000000   \n",
       "mean              0.002808              34.056990   \n",
       "std               0.038015              42.843638   \n",
       "min               0.000000               0.000000   \n",
       "25%               0.000000               0.000000   \n",
       "50%               0.000000               8.700000   \n",
       "75%               0.000000             100.000000   \n",
       "max               1.680000             100.000000   \n",
       "\n",
       "       high_cloud_cover_high_cld_lay  medium_cloud_cover_mid_cld_lay  \\\n",
       "count                    4213.000000                     4213.000000   \n",
       "mean                       14.458818                       20.023499   \n",
       "std                        30.711707                       36.387948   \n",
       "min                         0.000000                        0.000000   \n",
       "25%                         0.000000                        0.000000   \n",
       "50%                         0.000000                        0.000000   \n",
       "75%                         9.000000                       10.000000   \n",
       "max                       100.000000                      100.000000   \n",
       "\n",
       "       low_cloud_cover_low_cld_lay  shortwave_radiation_backwards_sfc  \\\n",
       "count                  4213.000000                        4213.000000   \n",
       "mean                     21.373368                         387.759036   \n",
       "std                      38.013885                         278.459293   \n",
       "min                       0.000000                           0.000000   \n",
       "25%                       0.000000                         142.400000   \n",
       "50%                       0.000000                         381.810000   \n",
       "75%                      10.000000                         599.860000   \n",
       "max                     100.000000                         952.300000   \n",
       "\n",
       "              ...          wind_direction_10_m_above_gnd  \\\n",
       "count         ...                            4213.000000   \n",
       "mean          ...                             195.078452   \n",
       "std           ...                             106.626782   \n",
       "min           ...                               0.540000   \n",
       "25%           ...                             153.190000   \n",
       "50%           ...                             191.770000   \n",
       "75%           ...                             292.070000   \n",
       "max           ...                             360.000000   \n",
       "\n",
       "       wind_speed_80_m_above_gnd  wind_direction_80_m_above_gnd  \\\n",
       "count                4213.000000                    4213.000000   \n",
       "mean                   18.978483                     191.166862   \n",
       "std                    11.999960                     108.760021   \n",
       "min                     0.000000                       1.120000   \n",
       "25%                    10.140000                     130.240000   \n",
       "50%                    16.240000                     187.770000   \n",
       "75%                    26.140000                     292.040000   \n",
       "max                    66.880000                     360.000000   \n",
       "\n",
       "       wind_speed_900_mb  wind_direction_900_mb  wind_gust_10_m_above_gnd  \\\n",
       "count         4213.00000            4213.000000               4213.000000   \n",
       "mean            16.36319             192.447911                 20.583489   \n",
       "std              9.88533             106.516195                 12.648899   \n",
       "min              0.00000               1.120000                  0.720000   \n",
       "25%              9.18000             148.220000                 11.160000   \n",
       "50%             14.49000             187.990000                 18.000000   \n",
       "75%             21.97000             288.000000                 27.000000   \n",
       "max             61.11000             360.000000                 84.960000   \n",
       "\n",
       "       angle_of_incidence       zenith      azimuth  generated_power_kw  \n",
       "count         4213.000000  4213.000000  4213.000000         4213.000000  \n",
       "mean            50.837490    59.980947   169.167651         1134.347313  \n",
       "std             26.638965    19.857711    64.568385          937.957247  \n",
       "min              3.755323    17.727761    54.379093            0.000595  \n",
       "25%             29.408181    45.291631   114.136600          231.700450  \n",
       "50%             47.335557    62.142611   163.241650          971.642650  \n",
       "75%             69.197492    74.346737   225.085620         2020.966700  \n",
       "max            121.635920   128.415370   289.045180         3056.794100  \n",
       "\n",
       "[8 rows x 21 columns]"
      ]
     },
     "execution_count": 34,
     "metadata": {},
     "output_type": "execute_result"
    }
   ],
   "source": [
    "df.describe()"
   ]
  },
  {
   "cell_type": "code",
   "execution_count": 35,
   "metadata": {},
   "outputs": [
    {
     "data": {
      "text/plain": [
       "<matplotlib.legend.Legend at 0x20da8d015c0>"
      ]
     },
     "execution_count": 35,
     "metadata": {},
     "output_type": "execute_result"
    },
    {
     "data": {
      "image/png": "[encoded data removed]",
      "text/plain": [
       "<Figure size 432x288 with 1 Axes>"
      ]
     },
     "metadata": {},
     "output_type": "display_data"
    }
   ],
   "source": [
    "plt.scatter(df.snowfall_amount_sfc, df.generated_power_kw,marker='+', color='blue',label='2 BHK')\n",
    "plt.xlabel(\" Snowfall Amount \")\n",
    "plt.ylabel(\"Generated Power\")\n",
    "plt.title('Energy Mangement Analysis')\n",
    "plt.legend()"
   ]
  },
  {
   "cell_type": "code",
   "execution_count": 36,
   "metadata": {
    "scrolled": false
   },
   "outputs": [
    {
     "data": {
      "text/plain": [
       "<matplotlib.legend.Legend at 0x20da8da0b00>"
      ]
     },
     "execution_count": 36,
     "metadata": {},
     "output_type": "execute_result"
    },
    {
     "data": {
      "image/png": "[encoded data removed]",
      "text/plain": [
       "<Figure size 432x288 with 1 Axes>"
      ]
     },
     "metadata": {},
     "output_type": "display_data"
    }
   ],
   "source": [
    "plt.scatter(df.total_precipitation_sfc, df.generated_power_kw,marker='+', color='blue',label='2 BHK')\n",
    "plt.xlabel(\"total precopitaion \")\n",
    "plt.ylabel(\"Power\")\n",
    "plt.title('Energy Mangement Analysis')\n",
    "plt.legend()"
   ]
  },
  {
   "cell_type": "code",
   "execution_count": 37,
   "metadata": {
    "scrolled": false
   },
   "outputs": [
    {
     "data": {
      "text/plain": [
       "(422, 21)"
      ]
     },
     "execution_count": 37,
     "metadata": {},
     "output_type": "execute_result"
    }
   ],
   "source": [
    "percentile=df.temperature_2_m_above_gnd.quantile(0.1)\n",
    "\n",
    "temp1=df[df.temperature_2_m_above_gnd<percentile]\n",
    "temp1.shape"
   ]
  },
  {
   "cell_type": "code",
   "execution_count": 38,
   "metadata": {
    "scrolled": true
   },
   "outputs": [
    {
     "data": {
      "text/plain": [
       "Index(['temperature_2_m_above_gnd', 'relative_humidity_2_m_above_gnd',\n",
       "       'mean_sea_level_pressure_MSL', 'total_precipitation_sfc',\n",
       "       'snowfall_amount_sfc', 'total_cloud_cover_sfc',\n",
       "       'high_cloud_cover_high_cld_lay', 'medium_cloud_cover_mid_cld_lay',\n",
       "       'low_cloud_cover_low_cld_lay', 'shortwave_radiation_backwards_sfc',\n",
       "       'wind_speed_10_m_above_gnd', 'wind_direction_10_m_above_gnd',\n",
       "       'wind_speed_80_m_above_gnd', 'wind_direction_80_m_above_gnd',\n",
       "       'wind_speed_900_mb', 'wind_direction_900_mb',\n",
       "       'wind_gust_10_m_above_gnd', 'angle_of_incidence', 'zenith', 'azimuth',\n",
       "       'generated_power_kw'],\n",
       "      dtype='object')"
      ]
     },
     "execution_count": 38,
     "metadata": {},
     "output_type": "execute_result"
    }
   ],
   "source": [
    "df.columns"
   ]
  },
  {
   "cell_type": "code",
   "execution_count": 39,
   "metadata": {
    "scrolled": true
   },
   "outputs": [
    {
     "name": "stdout",
     "output_type": "stream",
     "text": [
      "0.0\n"
     ]
    },
    {
     "data": {
      "text/plain": [
       "(307, 21)"
      ]
     },
     "execution_count": 39,
     "metadata": {},
     "output_type": "execute_result"
    }
   ],
   "source": [
    "percentile=df.total_precipitation_sfc.quantile(0.92)\n",
    "print(percentile)\n",
    "temp3=df[df.total_precipitation_sfc>percentile]\n",
    "temp3.shape"
   ]
  },
  {
   "cell_type": "code",
   "execution_count": 40,
   "metadata": {},
   "outputs": [
    {
     "name": "stdout",
     "output_type": "stream",
     "text": [
      "0.0\n"
     ]
    },
    {
     "data": {
      "text/plain": [
       "(47, 21)"
      ]
     },
     "execution_count": 40,
     "metadata": {},
     "output_type": "execute_result"
    }
   ],
   "source": [
    "percentile=df.snowfall_amount_sfc.quantile(0.98)\n",
    "print(percentile)\n",
    "temp2=df[df.snowfall_amount_sfc>percentile]\n",
    "temp2.shape"
   ]
  },
  {
   "cell_type": "code",
   "execution_count": 41,
   "metadata": {},
   "outputs": [
    {
     "data": {
      "text/plain": [
       "(4213, 16)"
      ]
     },
     "execution_count": 41,
     "metadata": {},
     "output_type": "execute_result"
    }
   ],
   "source": [
    "df1=df.drop(['total_precipitation_sfc','snowfall_amount_sfc','high_cloud_cover_high_cld_lay','medium_cloud_cover_mid_cld_lay','low_cloud_cover_low_cld_lay'], axis=1)\n",
    "df1.shape"
   ]
  },
  {
   "cell_type": "code",
   "execution_count": 42,
   "metadata": {},
   "outputs": [
    {
     "data": {
      "text/html": [
       "<div>\n",
       "<style scoped>\n",
       "    .dataframe tbody tr th:only-of-type {\n",
       "        vertical-align: middle;\n",
       "    }\n",
       "\n",
       "    .dataframe tbody tr th {\n",
       "        vertical-align: top;\n",
       "    }\n",
       "\n",
       "    .dataframe thead th {\n",
       "        text-align: right;\n",
       "    }\n",
       "</style>\n",
       "<table border=\"1\" class=\"dataframe\">\n",
       "  <thead>\n",
       "    <tr style=\"text-align: right;\">\n",
       "      <th></th>\n",
       "      <th>temperature_2_m_above_gnd</th>\n",
       "      <th>relative_humidity_2_m_above_gnd</th>\n",
       "      <th>mean_sea_level_pressure_MSL</th>\n",
       "      <th>total_cloud_cover_sfc</th>\n",
       "      <th>shortwave_radiation_backwards_sfc</th>\n",
       "      <th>wind_speed_10_m_above_gnd</th>\n",
       "      <th>wind_direction_10_m_above_gnd</th>\n",
       "      <th>wind_speed_80_m_above_gnd</th>\n",
       "      <th>wind_direction_80_m_above_gnd</th>\n",
       "      <th>wind_speed_900_mb</th>\n",
       "      <th>wind_direction_900_mb</th>\n",
       "      <th>wind_gust_10_m_above_gnd</th>\n",
       "      <th>angle_of_incidence</th>\n",
       "      <th>zenith</th>\n",
       "      <th>azimuth</th>\n",
       "      <th>generated_power_kw</th>\n",
       "    </tr>\n",
       "  </thead>\n",
       "  <tbody>\n",
       "    <tr>\n",
       "      <th>count</th>\n",
       "      <td>4213.000000</td>\n",
       "      <td>4213.000000</td>\n",
       "      <td>4213.000000</td>\n",
       "      <td>4213.000000</td>\n",
       "      <td>4213.000000</td>\n",
       "      <td>4213.000000</td>\n",
       "      <td>4213.000000</td>\n",
       "      <td>4213.000000</td>\n",
       "      <td>4213.000000</td>\n",
       "      <td>4213.00000</td>\n",
       "      <td>4213.000000</td>\n",
       "      <td>4213.000000</td>\n",
       "      <td>4213.000000</td>\n",
       "      <td>4213.000000</td>\n",
       "      <td>4213.000000</td>\n",
       "      <td>4213.000000</td>\n",
       "    </tr>\n",
       "    <tr>\n",
       "      <th>mean</th>\n",
       "      <td>15.068111</td>\n",
       "      <td>51.361025</td>\n",
       "      <td>1019.337812</td>\n",
       "      <td>34.056990</td>\n",
       "      <td>387.759036</td>\n",
       "      <td>16.228787</td>\n",
       "      <td>195.078452</td>\n",
       "      <td>18.978483</td>\n",
       "      <td>191.166862</td>\n",
       "      <td>16.36319</td>\n",
       "      <td>192.447911</td>\n",
       "      <td>20.583489</td>\n",
       "      <td>50.837490</td>\n",
       "      <td>59.980947</td>\n",
       "      <td>169.167651</td>\n",
       "      <td>1134.347313</td>\n",
       "    </tr>\n",
       "    <tr>\n",
       "      <th>std</th>\n",
       "      <td>8.853677</td>\n",
       "      <td>23.525864</td>\n",
       "      <td>7.022867</td>\n",
       "      <td>42.843638</td>\n",
       "      <td>278.459293</td>\n",
       "      <td>9.876948</td>\n",
       "      <td>106.626782</td>\n",
       "      <td>11.999960</td>\n",
       "      <td>108.760021</td>\n",
       "      <td>9.88533</td>\n",
       "      <td>106.516195</td>\n",
       "      <td>12.648899</td>\n",
       "      <td>26.638965</td>\n",
       "      <td>19.857711</td>\n",
       "      <td>64.568385</td>\n",
       "      <td>937.957247</td>\n",
       "    </tr>\n",
       "    <tr>\n",
       "      <th>min</th>\n",
       "      <td>-5.350000</td>\n",
       "      <td>7.000000</td>\n",
       "      <td>997.500000</td>\n",
       "      <td>0.000000</td>\n",
       "      <td>0.000000</td>\n",
       "      <td>0.000000</td>\n",
       "      <td>0.540000</td>\n",
       "      <td>0.000000</td>\n",
       "      <td>1.120000</td>\n",
       "      <td>0.00000</td>\n",
       "      <td>1.120000</td>\n",
       "      <td>0.720000</td>\n",
       "      <td>3.755323</td>\n",
       "      <td>17.727761</td>\n",
       "      <td>54.379093</td>\n",
       "      <td>0.000595</td>\n",
       "    </tr>\n",
       "    <tr>\n",
       "      <th>25%</th>\n",
       "      <td>8.390000</td>\n",
       "      <td>32.000000</td>\n",
       "      <td>1014.500000</td>\n",
       "      <td>0.000000</td>\n",
       "      <td>142.400000</td>\n",
       "      <td>9.010000</td>\n",
       "      <td>153.190000</td>\n",
       "      <td>10.140000</td>\n",
       "      <td>130.240000</td>\n",
       "      <td>9.18000</td>\n",
       "      <td>148.220000</td>\n",
       "      <td>11.160000</td>\n",
       "      <td>29.408181</td>\n",
       "      <td>45.291631</td>\n",
       "      <td>114.136600</td>\n",
       "      <td>231.700450</td>\n",
       "    </tr>\n",
       "    <tr>\n",
       "      <th>50%</th>\n",
       "      <td>14.750000</td>\n",
       "      <td>48.000000</td>\n",
       "      <td>1018.100000</td>\n",
       "      <td>8.700000</td>\n",
       "      <td>381.810000</td>\n",
       "      <td>14.460000</td>\n",
       "      <td>191.770000</td>\n",
       "      <td>16.240000</td>\n",
       "      <td>187.770000</td>\n",
       "      <td>14.49000</td>\n",
       "      <td>187.990000</td>\n",
       "      <td>18.000000</td>\n",
       "      <td>47.335557</td>\n",
       "      <td>62.142611</td>\n",
       "      <td>163.241650</td>\n",
       "      <td>971.642650</td>\n",
       "    </tr>\n",
       "    <tr>\n",
       "      <th>75%</th>\n",
       "      <td>21.290000</td>\n",
       "      <td>70.000000</td>\n",
       "      <td>1023.600000</td>\n",
       "      <td>100.000000</td>\n",
       "      <td>599.860000</td>\n",
       "      <td>21.840000</td>\n",
       "      <td>292.070000</td>\n",
       "      <td>26.140000</td>\n",
       "      <td>292.040000</td>\n",
       "      <td>21.97000</td>\n",
       "      <td>288.000000</td>\n",
       "      <td>27.000000</td>\n",
       "      <td>69.197492</td>\n",
       "      <td>74.346737</td>\n",
       "      <td>225.085620</td>\n",
       "      <td>2020.966700</td>\n",
       "    </tr>\n",
       "    <tr>\n",
       "      <th>max</th>\n",
       "      <td>34.900000</td>\n",
       "      <td>100.000000</td>\n",
       "      <td>1046.800000</td>\n",
       "      <td>100.000000</td>\n",
       "      <td>952.300000</td>\n",
       "      <td>61.180000</td>\n",
       "      <td>360.000000</td>\n",
       "      <td>66.880000</td>\n",
       "      <td>360.000000</td>\n",
       "      <td>61.11000</td>\n",
       "      <td>360.000000</td>\n",
       "      <td>84.960000</td>\n",
       "      <td>121.635920</td>\n",
       "      <td>128.415370</td>\n",
       "      <td>289.045180</td>\n",
       "      <td>3056.794100</td>\n",
       "    </tr>\n",
       "  </tbody>\n",
       "</table>\n",
       "</div>"
      ],
      "text/plain": [
       "       temperature_2_m_above_gnd  relative_humidity_2_m_above_gnd  \\\n",
       "count                4213.000000                      4213.000000   \n",
       "mean                   15.068111                        51.361025   \n",
       "std                     8.853677                        23.525864   \n",
       "min                    -5.350000                         7.000000   \n",
       "25%                     8.390000                        32.000000   \n",
       "50%                    14.750000                        48.000000   \n",
       "75%                    21.290000                        70.000000   \n",
       "max                    34.900000                       100.000000   \n",
       "\n",
       "       mean_sea_level_pressure_MSL  total_cloud_cover_sfc  \\\n",
       "count                  4213.000000            4213.000000   \n",
       "mean                   1019.337812              34.056990   \n",
       "std                       7.022867              42.843638   \n",
       "min                     997.500000               0.000000   \n",
       "25%                    1014.500000               0.000000   \n",
       "50%                    1018.100000               8.700000   \n",
       "75%                    1023.600000             100.000000   \n",
       "max                    1046.800000             100.000000   \n",
       "\n",
       "       shortwave_radiation_backwards_sfc  wind_speed_10_m_above_gnd  \\\n",
       "count                        4213.000000                4213.000000   \n",
       "mean                          387.759036                  16.228787   \n",
       "std                           278.459293                   9.876948   \n",
       "min                             0.000000                   0.000000   \n",
       "25%                           142.400000                   9.010000   \n",
       "50%                           381.810000                  14.460000   \n",
       "75%                           599.860000                  21.840000   \n",
       "max                           952.300000                  61.180000   \n",
       "\n",
       "       wind_direction_10_m_above_gnd  wind_speed_80_m_above_gnd  \\\n",
       "count                    4213.000000                4213.000000   \n",
       "mean                      195.078452                  18.978483   \n",
       "std                       106.626782                  11.999960   \n",
       "min                         0.540000                   0.000000   \n",
       "25%                       153.190000                  10.140000   \n",
       "50%                       191.770000                  16.240000   \n",
       "75%                       292.070000                  26.140000   \n",
       "max                       360.000000                  66.880000   \n",
       "\n",
       "       wind_direction_80_m_above_gnd  wind_speed_900_mb  \\\n",
       "count                    4213.000000         4213.00000   \n",
       "mean                      191.166862           16.36319   \n",
       "std                       108.760021            9.88533   \n",
       "min                         1.120000            0.00000   \n",
       "25%                       130.240000            9.18000   \n",
       "50%                       187.770000           14.49000   \n",
       "75%                       292.040000           21.97000   \n",
       "max                       360.000000           61.11000   \n",
       "\n",
       "       wind_direction_900_mb  wind_gust_10_m_above_gnd  angle_of_incidence  \\\n",
       "count            4213.000000               4213.000000         4213.000000   \n",
       "mean              192.447911                 20.583489           50.837490   \n",
       "std               106.516195                 12.648899           26.638965   \n",
       "min                 1.120000                  0.720000            3.755323   \n",
       "25%               148.220000                 11.160000           29.408181   \n",
       "50%               187.990000                 18.000000           47.335557   \n",
       "75%               288.000000                 27.000000           69.197492   \n",
       "max               360.000000                 84.960000          121.635920   \n",
       "\n",
       "            zenith      azimuth  generated_power_kw  \n",
       "count  4213.000000  4213.000000         4213.000000  \n",
       "mean     59.980947   169.167651         1134.347313  \n",
       "std      19.857711    64.568385          937.957247  \n",
       "min      17.727761    54.379093            0.000595  \n",
       "25%      45.291631   114.136600          231.700450  \n",
       "50%      62.142611   163.241650          971.642650  \n",
       "75%      74.346737   225.085620         2020.966700  \n",
       "max     128.415370   289.045180         3056.794100  "
      ]
     },
     "execution_count": 42,
     "metadata": {},
     "output_type": "execute_result"
    }
   ],
   "source": [
    "df1.describe()"
   ]
  },
  {
   "cell_type": "code",
   "execution_count": 43,
   "metadata": {
    "scrolled": true
   },
   "outputs": [],
   "source": [
    "winter=df1[df1.temperature_2_m_above_gnd<5]\n",
    "spring=df1[(df1.temperature_2_m_above_gnd>5) & (df1.temperature_2_m_above_gnd<15)]\n",
    "autumn=df1[(df1.temperature_2_m_above_gnd>15) & (df1.temperature_2_m_above_gnd<25)]\n",
    "summer=df1[df1.temperature_2_m_above_gnd>25]\n"
   ]
  },
  {
   "cell_type": "code",
   "execution_count": 44,
   "metadata": {
    "scrolled": false
   },
   "outputs": [
    {
     "data": {
      "text/plain": [
       "(array([ 604., 1549., 1387.,  671.]),\n",
       " array([-5,  5, 15, 25, 35]),\n",
       " <a list of 4 Patch objects>)"
      ]
     },
     "execution_count": 44,
     "metadata": {},
     "output_type": "execute_result"
    },
    {
     "data": {
      "image/png": "[encoded data removed]",
      "text/plain": [
       "<Figure size 720x504 with 1 Axes>"
      ]
     },
     "metadata": {},
     "output_type": "display_data"
    }
   ],
   "source": [
    "fig = plt.figure(figsize =(10, 7))\n",
    "plt.hist(df1.temperature_2_m_above_gnd,rwidth=0.95, bins=[-5,5,15,25,35])"
   ]
  },
  {
   "cell_type": "code",
   "execution_count": 45,
   "metadata": {},
   "outputs": [
    {
     "data": {
      "text/html": [
       "<div>\n",
       "<style scoped>\n",
       "    .dataframe tbody tr th:only-of-type {\n",
       "        vertical-align: middle;\n",
       "    }\n",
       "\n",
       "    .dataframe tbody tr th {\n",
       "        vertical-align: top;\n",
       "    }\n",
       "\n",
       "    .dataframe thead th {\n",
       "        text-align: right;\n",
       "    }\n",
       "</style>\n",
       "<table border=\"1\" class=\"dataframe\">\n",
       "  <thead>\n",
       "    <tr style=\"text-align: right;\">\n",
       "      <th></th>\n",
       "      <th>temperature_2_m_above_gnd</th>\n",
       "      <th>relative_humidity_2_m_above_gnd</th>\n",
       "      <th>mean_sea_level_pressure_MSL</th>\n",
       "      <th>total_cloud_cover_sfc</th>\n",
       "      <th>shortwave_radiation_backwards_sfc</th>\n",
       "      <th>wind_speed_10_m_above_gnd</th>\n",
       "      <th>wind_direction_10_m_above_gnd</th>\n",
       "      <th>wind_speed_80_m_above_gnd</th>\n",
       "      <th>wind_direction_80_m_above_gnd</th>\n",
       "      <th>wind_speed_900_mb</th>\n",
       "      <th>wind_direction_900_mb</th>\n",
       "      <th>wind_gust_10_m_above_gnd</th>\n",
       "      <th>angle_of_incidence</th>\n",
       "      <th>zenith</th>\n",
       "      <th>azimuth</th>\n",
       "      <th>generated_power_kw</th>\n",
       "    </tr>\n",
       "  </thead>\n",
       "  <tbody>\n",
       "    <tr>\n",
       "      <th>0</th>\n",
       "      <td>2.17</td>\n",
       "      <td>31</td>\n",
       "      <td>1035.0</td>\n",
       "      <td>0.0</td>\n",
       "      <td>0.00</td>\n",
       "      <td>6.37</td>\n",
       "      <td>312.71</td>\n",
       "      <td>9.36</td>\n",
       "      <td>22.62</td>\n",
       "      <td>6.62</td>\n",
       "      <td>337.62</td>\n",
       "      <td>24.48</td>\n",
       "      <td>58.753108</td>\n",
       "      <td>83.237322</td>\n",
       "      <td>128.33543</td>\n",
       "      <td>454.10095</td>\n",
       "    </tr>\n",
       "    <tr>\n",
       "      <th>1</th>\n",
       "      <td>2.31</td>\n",
       "      <td>27</td>\n",
       "      <td>1035.1</td>\n",
       "      <td>0.0</td>\n",
       "      <td>1.78</td>\n",
       "      <td>5.15</td>\n",
       "      <td>294.78</td>\n",
       "      <td>5.99</td>\n",
       "      <td>32.74</td>\n",
       "      <td>4.61</td>\n",
       "      <td>321.34</td>\n",
       "      <td>21.96</td>\n",
       "      <td>45.408585</td>\n",
       "      <td>75.143041</td>\n",
       "      <td>139.65530</td>\n",
       "      <td>1411.99940</td>\n",
       "    </tr>\n",
       "    <tr>\n",
       "      <th>2</th>\n",
       "      <td>3.65</td>\n",
       "      <td>33</td>\n",
       "      <td>1035.4</td>\n",
       "      <td>0.0</td>\n",
       "      <td>108.58</td>\n",
       "      <td>4.68</td>\n",
       "      <td>270.00</td>\n",
       "      <td>3.89</td>\n",
       "      <td>56.31</td>\n",
       "      <td>3.76</td>\n",
       "      <td>286.70</td>\n",
       "      <td>14.04</td>\n",
       "      <td>32.848282</td>\n",
       "      <td>68.820648</td>\n",
       "      <td>152.53769</td>\n",
       "      <td>2214.84930</td>\n",
       "    </tr>\n",
       "  </tbody>\n",
       "</table>\n",
       "</div>"
      ],
      "text/plain": [
       "   temperature_2_m_above_gnd  relative_humidity_2_m_above_gnd  \\\n",
       "0                       2.17                               31   \n",
       "1                       2.31                               27   \n",
       "2                       3.65                               33   \n",
       "\n",
       "   mean_sea_level_pressure_MSL  total_cloud_cover_sfc  \\\n",
       "0                       1035.0                    0.0   \n",
       "1                       1035.1                    0.0   \n",
       "2                       1035.4                    0.0   \n",
       "\n",
       "   shortwave_radiation_backwards_sfc  wind_speed_10_m_above_gnd  \\\n",
       "0                               0.00                       6.37   \n",
       "1                               1.78                       5.15   \n",
       "2                             108.58                       4.68   \n",
       "\n",
       "   wind_direction_10_m_above_gnd  wind_speed_80_m_above_gnd  \\\n",
       "0                         312.71                       9.36   \n",
       "1                         294.78                       5.99   \n",
       "2                         270.00                       3.89   \n",
       "\n",
       "   wind_direction_80_m_above_gnd  wind_speed_900_mb  wind_direction_900_mb  \\\n",
       "0                          22.62               6.62                 337.62   \n",
       "1                          32.74               4.61                 321.34   \n",
       "2                          56.31               3.76                 286.70   \n",
       "\n",
       "   wind_gust_10_m_above_gnd  angle_of_incidence     zenith    azimuth  \\\n",
       "0                     24.48           58.753108  83.237322  128.33543   \n",
       "1                     21.96           45.408585  75.143041  139.65530   \n",
       "2                     14.04           32.848282  68.820648  152.53769   \n",
       "\n",
       "   generated_power_kw  \n",
       "0           454.10095  \n",
       "1          1411.99940  \n",
       "2          2214.84930  "
      ]
     },
     "execution_count": 45,
     "metadata": {},
     "output_type": "execute_result"
    }
   ],
   "source": [
    "winter.head(3)"
   ]
  },
  {
   "cell_type": "code",
   "execution_count": 80,
   "metadata": {},
   "outputs": [
    {
     "data": {
      "text/plain": [
       "(606, 16)"
      ]
     },
     "execution_count": 80,
     "metadata": {},
     "output_type": "execute_result"
    },
    {
     "data": {
      "image/png": "[encoded data removed]",
      "text/plain": [
       "<Figure size 432x288 with 1 Axes>"
      ]
     },
     "metadata": {},
     "output_type": "display_data"
    }
   ],
   "source": [
    "plt.scatter(winter.temperature_2_m_above_gnd, winter.generated_power_kw, color='red', marker='+')\n",
    "winter.shape"
   ]
  },
  {
   "cell_type": "code",
   "execution_count": 47,
   "metadata": {
    "scrolled": true
   },
   "outputs": [
    {
     "data": {
      "text/plain": [
       "<matplotlib.collections.PathCollection at 0x20da8e9e128>"
      ]
     },
     "execution_count": 47,
     "metadata": {},
     "output_type": "execute_result"
    },
    {
     "data": {
      "image/png": "[encoded data removed]",
      "text/plain": [
       "<Figure size 432x288 with 1 Axes>"
      ]
     },
     "metadata": {},
     "output_type": "display_data"
    }
   ],
   "source": [
    "plt.scatter(summer.temperature_2_m_above_gnd, summer.generated_power_kw, marker='+')"
   ]
  },
  {
   "cell_type": "code",
   "execution_count": 79,
   "metadata": {
    "scrolled": true
   },
   "outputs": [
    {
     "data": {
      "text/plain": [
       "(array([193., 176., 179., 156., 161., 116.,  96.,  96., 108., 106.]),\n",
       " array([15.01 , 16.006, 17.002, 17.998, 18.994, 19.99 , 20.986, 21.982,\n",
       "        22.978, 23.974, 24.97 ]),\n",
       " <a list of 10 Patch objects>)"
      ]
     },
     "execution_count": 79,
     "metadata": {},
     "output_type": "execute_result"
    },
    {
     "data": {
      "image/png": "[encoded data removed]",
      "text/plain": [
       "<Figure size 432x288 with 1 Axes>"
      ]
     },
     "metadata": {},
     "output_type": "display_data"
    }
   ],
   "source": [
    "plt.hist(autumn.temperature_2_m_above_gnd)"
   ]
  },
  {
   "cell_type": "code",
   "execution_count": 48,
   "metadata": {
    "scrolled": false
   },
   "outputs": [
    {
     "data": {
      "text/html": [
       "<div>\n",
       "<style scoped>\n",
       "    .dataframe tbody tr th:only-of-type {\n",
       "        vertical-align: middle;\n",
       "    }\n",
       "\n",
       "    .dataframe tbody tr th {\n",
       "        vertical-align: top;\n",
       "    }\n",
       "\n",
       "    .dataframe thead th {\n",
       "        text-align: right;\n",
       "    }\n",
       "</style>\n",
       "<table border=\"1\" class=\"dataframe\">\n",
       "  <thead>\n",
       "    <tr style=\"text-align: right;\">\n",
       "      <th></th>\n",
       "      <th>temperature_2_m_above_gnd</th>\n",
       "      <th>relative_humidity_2_m_above_gnd</th>\n",
       "      <th>mean_sea_level_pressure_MSL</th>\n",
       "      <th>total_cloud_cover_sfc</th>\n",
       "      <th>shortwave_radiation_backwards_sfc</th>\n",
       "      <th>wind_speed_10_m_above_gnd</th>\n",
       "      <th>wind_direction_10_m_above_gnd</th>\n",
       "      <th>wind_speed_80_m_above_gnd</th>\n",
       "      <th>wind_direction_80_m_above_gnd</th>\n",
       "      <th>wind_speed_900_mb</th>\n",
       "      <th>wind_direction_900_mb</th>\n",
       "      <th>wind_gust_10_m_above_gnd</th>\n",
       "      <th>angle_of_incidence</th>\n",
       "      <th>zenith</th>\n",
       "      <th>azimuth</th>\n",
       "      <th>generated_power_kw</th>\n",
       "    </tr>\n",
       "  </thead>\n",
       "  <tbody>\n",
       "    <tr>\n",
       "      <th>count</th>\n",
       "      <td>671.000000</td>\n",
       "      <td>671.000000</td>\n",
       "      <td>671.000000</td>\n",
       "      <td>671.000000</td>\n",
       "      <td>671.000000</td>\n",
       "      <td>671.000000</td>\n",
       "      <td>671.000000</td>\n",
       "      <td>671.000000</td>\n",
       "      <td>671.00000</td>\n",
       "      <td>671.000000</td>\n",
       "      <td>671.000000</td>\n",
       "      <td>671.000000</td>\n",
       "      <td>671.000000</td>\n",
       "      <td>671.000000</td>\n",
       "      <td>671.000000</td>\n",
       "      <td>671.000000</td>\n",
       "    </tr>\n",
       "    <tr>\n",
       "      <th>mean</th>\n",
       "      <td>29.155827</td>\n",
       "      <td>22.564829</td>\n",
       "      <td>1015.326528</td>\n",
       "      <td>12.327869</td>\n",
       "      <td>685.575887</td>\n",
       "      <td>14.758614</td>\n",
       "      <td>222.021088</td>\n",
       "      <td>15.584486</td>\n",
       "      <td>218.74544</td>\n",
       "      <td>14.480820</td>\n",
       "      <td>216.494128</td>\n",
       "      <td>19.290849</td>\n",
       "      <td>48.251317</td>\n",
       "      <td>42.448943</td>\n",
       "      <td>215.189806</td>\n",
       "      <td>1372.294253</td>\n",
       "    </tr>\n",
       "    <tr>\n",
       "      <th>std</th>\n",
       "      <td>2.527680</td>\n",
       "      <td>6.905863</td>\n",
       "      <td>2.657259</td>\n",
       "      <td>26.554983</td>\n",
       "      <td>188.271161</td>\n",
       "      <td>6.415848</td>\n",
       "      <td>91.376096</td>\n",
       "      <td>7.394147</td>\n",
       "      <td>91.11440</td>\n",
       "      <td>6.591622</td>\n",
       "      <td>92.218293</td>\n",
       "      <td>9.057554</td>\n",
       "      <td>20.916644</td>\n",
       "      <td>17.397694</td>\n",
       "      <td>59.109000</td>\n",
       "      <td>909.337810</td>\n",
       "    </tr>\n",
       "    <tr>\n",
       "      <th>min</th>\n",
       "      <td>25.010000</td>\n",
       "      <td>7.000000</td>\n",
       "      <td>1006.900000</td>\n",
       "      <td>0.000000</td>\n",
       "      <td>178.000000</td>\n",
       "      <td>0.360000</td>\n",
       "      <td>1.510000</td>\n",
       "      <td>0.360000</td>\n",
       "      <td>1.85000</td>\n",
       "      <td>0.360000</td>\n",
       "      <td>1.120000</td>\n",
       "      <td>3.240000</td>\n",
       "      <td>10.463062</td>\n",
       "      <td>17.727761</td>\n",
       "      <td>82.334014</td>\n",
       "      <td>0.000595</td>\n",
       "    </tr>\n",
       "    <tr>\n",
       "      <th>25%</th>\n",
       "      <td>27.040000</td>\n",
       "      <td>18.000000</td>\n",
       "      <td>1013.500000</td>\n",
       "      <td>0.000000</td>\n",
       "      <td>550.465000</td>\n",
       "      <td>10.215000</td>\n",
       "      <td>180.000000</td>\n",
       "      <td>10.440000</td>\n",
       "      <td>180.00000</td>\n",
       "      <td>9.830000</td>\n",
       "      <td>178.745000</td>\n",
       "      <td>12.420000</td>\n",
       "      <td>30.425913</td>\n",
       "      <td>27.987416</td>\n",
       "      <td>183.268840</td>\n",
       "      <td>502.918335</td>\n",
       "    </tr>\n",
       "    <tr>\n",
       "      <th>50%</th>\n",
       "      <td>28.900000</td>\n",
       "      <td>22.000000</td>\n",
       "      <td>1015.300000</td>\n",
       "      <td>0.000000</td>\n",
       "      <td>728.020000</td>\n",
       "      <td>13.850000</td>\n",
       "      <td>222.400000</td>\n",
       "      <td>14.180000</td>\n",
       "      <td>220.96000</td>\n",
       "      <td>13.360000</td>\n",
       "      <td>219.990000</td>\n",
       "      <td>16.920000</td>\n",
       "      <td>41.982811</td>\n",
       "      <td>39.924313</td>\n",
       "      <td>234.308410</td>\n",
       "      <td>1552.978400</td>\n",
       "    </tr>\n",
       "    <tr>\n",
       "      <th>75%</th>\n",
       "      <td>31.170000</td>\n",
       "      <td>26.000000</td>\n",
       "      <td>1017.300000</td>\n",
       "      <td>10.000000</td>\n",
       "      <td>843.720000</td>\n",
       "      <td>19.130000</td>\n",
       "      <td>298.480000</td>\n",
       "      <td>20.635000</td>\n",
       "      <td>291.58500</td>\n",
       "      <td>18.840000</td>\n",
       "      <td>288.870000</td>\n",
       "      <td>24.840000</td>\n",
       "      <td>64.345864</td>\n",
       "      <td>55.194270</td>\n",
       "      <td>264.799695</td>\n",
       "      <td>2256.386850</td>\n",
       "    </tr>\n",
       "    <tr>\n",
       "      <th>max</th>\n",
       "      <td>34.900000</td>\n",
       "      <td>51.000000</td>\n",
       "      <td>1021.300000</td>\n",
       "      <td>100.000000</td>\n",
       "      <td>945.180000</td>\n",
       "      <td>33.970000</td>\n",
       "      <td>360.000000</td>\n",
       "      <td>38.520000</td>\n",
       "      <td>360.00000</td>\n",
       "      <td>33.880000</td>\n",
       "      <td>360.000000</td>\n",
       "      <td>47.880000</td>\n",
       "      <td>92.754507</td>\n",
       "      <td>77.745292</td>\n",
       "      <td>288.899750</td>\n",
       "      <td>2650.008100</td>\n",
       "    </tr>\n",
       "  </tbody>\n",
       "</table>\n",
       "</div>"
      ],
      "text/plain": [
       "       temperature_2_m_above_gnd  relative_humidity_2_m_above_gnd  \\\n",
       "count                 671.000000                       671.000000   \n",
       "mean                   29.155827                        22.564829   \n",
       "std                     2.527680                         6.905863   \n",
       "min                    25.010000                         7.000000   \n",
       "25%                    27.040000                        18.000000   \n",
       "50%                    28.900000                        22.000000   \n",
       "75%                    31.170000                        26.000000   \n",
       "max                    34.900000                        51.000000   \n",
       "\n",
       "       mean_sea_level_pressure_MSL  total_cloud_cover_sfc  \\\n",
       "count                   671.000000             671.000000   \n",
       "mean                   1015.326528              12.327869   \n",
       "std                       2.657259              26.554983   \n",
       "min                    1006.900000               0.000000   \n",
       "25%                    1013.500000               0.000000   \n",
       "50%                    1015.300000               0.000000   \n",
       "75%                    1017.300000              10.000000   \n",
       "max                    1021.300000             100.000000   \n",
       "\n",
       "       shortwave_radiation_backwards_sfc  wind_speed_10_m_above_gnd  \\\n",
       "count                         671.000000                 671.000000   \n",
       "mean                          685.575887                  14.758614   \n",
       "std                           188.271161                   6.415848   \n",
       "min                           178.000000                   0.360000   \n",
       "25%                           550.465000                  10.215000   \n",
       "50%                           728.020000                  13.850000   \n",
       "75%                           843.720000                  19.130000   \n",
       "max                           945.180000                  33.970000   \n",
       "\n",
       "       wind_direction_10_m_above_gnd  wind_speed_80_m_above_gnd  \\\n",
       "count                     671.000000                 671.000000   \n",
       "mean                      222.021088                  15.584486   \n",
       "std                        91.376096                   7.394147   \n",
       "min                         1.510000                   0.360000   \n",
       "25%                       180.000000                  10.440000   \n",
       "50%                       222.400000                  14.180000   \n",
       "75%                       298.480000                  20.635000   \n",
       "max                       360.000000                  38.520000   \n",
       "\n",
       "       wind_direction_80_m_above_gnd  wind_speed_900_mb  \\\n",
       "count                      671.00000         671.000000   \n",
       "mean                       218.74544          14.480820   \n",
       "std                         91.11440           6.591622   \n",
       "min                          1.85000           0.360000   \n",
       "25%                        180.00000           9.830000   \n",
       "50%                        220.96000          13.360000   \n",
       "75%                        291.58500          18.840000   \n",
       "max                        360.00000          33.880000   \n",
       "\n",
       "       wind_direction_900_mb  wind_gust_10_m_above_gnd  angle_of_incidence  \\\n",
       "count             671.000000                671.000000          671.000000   \n",
       "mean              216.494128                 19.290849           48.251317   \n",
       "std                92.218293                  9.057554           20.916644   \n",
       "min                 1.120000                  3.240000           10.463062   \n",
       "25%               178.745000                 12.420000           30.425913   \n",
       "50%               219.990000                 16.920000           41.982811   \n",
       "75%               288.870000                 24.840000           64.345864   \n",
       "max               360.000000                 47.880000           92.754507   \n",
       "\n",
       "           zenith     azimuth  generated_power_kw  \n",
       "count  671.000000  671.000000          671.000000  \n",
       "mean    42.448943  215.189806         1372.294253  \n",
       "std     17.397694   59.109000          909.337810  \n",
       "min     17.727761   82.334014            0.000595  \n",
       "25%     27.987416  183.268840          502.918335  \n",
       "50%     39.924313  234.308410         1552.978400  \n",
       "75%     55.194270  264.799695         2256.386850  \n",
       "max     77.745292  288.899750         2650.008100  "
      ]
     },
     "execution_count": 48,
     "metadata": {},
     "output_type": "execute_result"
    }
   ],
   "source": [
    "summer.describe()"
   ]
  },
  {
   "cell_type": "code",
   "execution_count": 64,
   "metadata": {
    "scrolled": false
   },
   "outputs": [
    {
     "data": {
      "text/plain": [
       "<matplotlib.collections.PathCollection at 0x20daa838e80>"
      ]
     },
     "execution_count": 64,
     "metadata": {},
     "output_type": "execute_result"
    },
    {
     "data": {
      "image/png": "[encoded data removed]",
      "text/plain": [
       "<Figure size 432x288 with 1 Axes>"
      ]
     },
     "metadata": {},
     "output_type": "display_data"
    }
   ],
   "source": [
    "plt.scatter(spring.temperature_2_m_above_gnd, spring.generated_power_kw, marker='+', color='green')"
   ]
  },
  {
   "cell_type": "code",
   "execution_count": 67,
   "metadata": {
    "scrolled": false
   },
   "outputs": [
    {
     "data": {
      "text/plain": [
       "<matplotlib.collections.PathCollection at 0x20daa969128>"
      ]
     },
     "execution_count": 67,
     "metadata": {},
     "output_type": "execute_result"
    },
    {
     "data": {
      "image/png": "[encoded data removed]",
      "text/plain": [
       "<Figure size 432x288 with 1 Axes>"
      ]
     },
     "metadata": {},
     "output_type": "display_data"
    }
   ],
   "source": [
    "plt.scatter(autumn.temperature_2_m_above_gnd, autumn.generated_power_kw, marker='+',color='red')"
   ]
  },
  {
   "cell_type": "code",
   "execution_count": 51,
   "metadata": {},
   "outputs": [
    {
     "data": {
      "text/html": [
       "<div>\n",
       "<style scoped>\n",
       "    .dataframe tbody tr th:only-of-type {\n",
       "        vertical-align: middle;\n",
       "    }\n",
       "\n",
       "    .dataframe tbody tr th {\n",
       "        vertical-align: top;\n",
       "    }\n",
       "\n",
       "    .dataframe thead th {\n",
       "        text-align: right;\n",
       "    }\n",
       "</style>\n",
       "<table border=\"1\" class=\"dataframe\">\n",
       "  <thead>\n",
       "    <tr style=\"text-align: right;\">\n",
       "      <th></th>\n",
       "      <th>temperature_2_m_above_gnd</th>\n",
       "      <th>relative_humidity_2_m_above_gnd</th>\n",
       "      <th>mean_sea_level_pressure_MSL</th>\n",
       "      <th>total_cloud_cover_sfc</th>\n",
       "      <th>shortwave_radiation_backwards_sfc</th>\n",
       "      <th>wind_speed_10_m_above_gnd</th>\n",
       "      <th>wind_direction_10_m_above_gnd</th>\n",
       "      <th>wind_speed_80_m_above_gnd</th>\n",
       "      <th>wind_direction_80_m_above_gnd</th>\n",
       "      <th>wind_speed_900_mb</th>\n",
       "      <th>wind_direction_900_mb</th>\n",
       "      <th>wind_gust_10_m_above_gnd</th>\n",
       "      <th>angle_of_incidence</th>\n",
       "      <th>zenith</th>\n",
       "      <th>azimuth</th>\n",
       "      <th>generated_power_kw</th>\n",
       "    </tr>\n",
       "  </thead>\n",
       "  <tbody>\n",
       "    <tr>\n",
       "      <th>count</th>\n",
       "      <td>4213.000000</td>\n",
       "      <td>4213.000000</td>\n",
       "      <td>4213.000000</td>\n",
       "      <td>4213.000000</td>\n",
       "      <td>4213.000000</td>\n",
       "      <td>4213.000000</td>\n",
       "      <td>4213.000000</td>\n",
       "      <td>4213.000000</td>\n",
       "      <td>4213.000000</td>\n",
       "      <td>4213.00000</td>\n",
       "      <td>4213.000000</td>\n",
       "      <td>4213.000000</td>\n",
       "      <td>4213.000000</td>\n",
       "      <td>4213.000000</td>\n",
       "      <td>4213.000000</td>\n",
       "      <td>4213.000000</td>\n",
       "    </tr>\n",
       "    <tr>\n",
       "      <th>mean</th>\n",
       "      <td>15.068111</td>\n",
       "      <td>51.361025</td>\n",
       "      <td>1019.337812</td>\n",
       "      <td>34.056990</td>\n",
       "      <td>387.759036</td>\n",
       "      <td>16.228787</td>\n",
       "      <td>195.078452</td>\n",
       "      <td>18.978483</td>\n",
       "      <td>191.166862</td>\n",
       "      <td>16.36319</td>\n",
       "      <td>192.447911</td>\n",
       "      <td>20.583489</td>\n",
       "      <td>50.837490</td>\n",
       "      <td>59.980947</td>\n",
       "      <td>169.167651</td>\n",
       "      <td>1134.347313</td>\n",
       "    </tr>\n",
       "    <tr>\n",
       "      <th>std</th>\n",
       "      <td>8.853677</td>\n",
       "      <td>23.525864</td>\n",
       "      <td>7.022867</td>\n",
       "      <td>42.843638</td>\n",
       "      <td>278.459293</td>\n",
       "      <td>9.876948</td>\n",
       "      <td>106.626782</td>\n",
       "      <td>11.999960</td>\n",
       "      <td>108.760021</td>\n",
       "      <td>9.88533</td>\n",
       "      <td>106.516195</td>\n",
       "      <td>12.648899</td>\n",
       "      <td>26.638965</td>\n",
       "      <td>19.857711</td>\n",
       "      <td>64.568385</td>\n",
       "      <td>937.957247</td>\n",
       "    </tr>\n",
       "    <tr>\n",
       "      <th>min</th>\n",
       "      <td>-5.350000</td>\n",
       "      <td>7.000000</td>\n",
       "      <td>997.500000</td>\n",
       "      <td>0.000000</td>\n",
       "      <td>0.000000</td>\n",
       "      <td>0.000000</td>\n",
       "      <td>0.540000</td>\n",
       "      <td>0.000000</td>\n",
       "      <td>1.120000</td>\n",
       "      <td>0.00000</td>\n",
       "      <td>1.120000</td>\n",
       "      <td>0.720000</td>\n",
       "      <td>3.755323</td>\n",
       "      <td>17.727761</td>\n",
       "      <td>54.379093</td>\n",
       "      <td>0.000595</td>\n",
       "    </tr>\n",
       "    <tr>\n",
       "      <th>25%</th>\n",
       "      <td>8.390000</td>\n",
       "      <td>32.000000</td>\n",
       "      <td>1014.500000</td>\n",
       "      <td>0.000000</td>\n",
       "      <td>142.400000</td>\n",
       "      <td>9.010000</td>\n",
       "      <td>153.190000</td>\n",
       "      <td>10.140000</td>\n",
       "      <td>130.240000</td>\n",
       "      <td>9.18000</td>\n",
       "      <td>148.220000</td>\n",
       "      <td>11.160000</td>\n",
       "      <td>29.408181</td>\n",
       "      <td>45.291631</td>\n",
       "      <td>114.136600</td>\n",
       "      <td>231.700450</td>\n",
       "    </tr>\n",
       "    <tr>\n",
       "      <th>50%</th>\n",
       "      <td>14.750000</td>\n",
       "      <td>48.000000</td>\n",
       "      <td>1018.100000</td>\n",
       "      <td>8.700000</td>\n",
       "      <td>381.810000</td>\n",
       "      <td>14.460000</td>\n",
       "      <td>191.770000</td>\n",
       "      <td>16.240000</td>\n",
       "      <td>187.770000</td>\n",
       "      <td>14.49000</td>\n",
       "      <td>187.990000</td>\n",
       "      <td>18.000000</td>\n",
       "      <td>47.335557</td>\n",
       "      <td>62.142611</td>\n",
       "      <td>163.241650</td>\n",
       "      <td>971.642650</td>\n",
       "    </tr>\n",
       "    <tr>\n",
       "      <th>75%</th>\n",
       "      <td>21.290000</td>\n",
       "      <td>70.000000</td>\n",
       "      <td>1023.600000</td>\n",
       "      <td>100.000000</td>\n",
       "      <td>599.860000</td>\n",
       "      <td>21.840000</td>\n",
       "      <td>292.070000</td>\n",
       "      <td>26.140000</td>\n",
       "      <td>292.040000</td>\n",
       "      <td>21.97000</td>\n",
       "      <td>288.000000</td>\n",
       "      <td>27.000000</td>\n",
       "      <td>69.197492</td>\n",
       "      <td>74.346737</td>\n",
       "      <td>225.085620</td>\n",
       "      <td>2020.966700</td>\n",
       "    </tr>\n",
       "    <tr>\n",
       "      <th>max</th>\n",
       "      <td>34.900000</td>\n",
       "      <td>100.000000</td>\n",
       "      <td>1046.800000</td>\n",
       "      <td>100.000000</td>\n",
       "      <td>952.300000</td>\n",
       "      <td>61.180000</td>\n",
       "      <td>360.000000</td>\n",
       "      <td>66.880000</td>\n",
       "      <td>360.000000</td>\n",
       "      <td>61.11000</td>\n",
       "      <td>360.000000</td>\n",
       "      <td>84.960000</td>\n",
       "      <td>121.635920</td>\n",
       "      <td>128.415370</td>\n",
       "      <td>289.045180</td>\n",
       "      <td>3056.794100</td>\n",
       "    </tr>\n",
       "  </tbody>\n",
       "</table>\n",
       "</div>"
      ],
      "text/plain": [
       "       temperature_2_m_above_gnd  relative_humidity_2_m_above_gnd  \\\n",
       "count                4213.000000                      4213.000000   \n",
       "mean                   15.068111                        51.361025   \n",
       "std                     8.853677                        23.525864   \n",
       "min                    -5.350000                         7.000000   \n",
       "25%                     8.390000                        32.000000   \n",
       "50%                    14.750000                        48.000000   \n",
       "75%                    21.290000                        70.000000   \n",
       "max                    34.900000                       100.000000   \n",
       "\n",
       "       mean_sea_level_pressure_MSL  total_cloud_cover_sfc  \\\n",
       "count                  4213.000000            4213.000000   \n",
       "mean                   1019.337812              34.056990   \n",
       "std                       7.022867              42.843638   \n",
       "min                     997.500000               0.000000   \n",
       "25%                    1014.500000               0.000000   \n",
       "50%                    1018.100000               8.700000   \n",
       "75%                    1023.600000             100.000000   \n",
       "max                    1046.800000             100.000000   \n",
       "\n",
       "       shortwave_radiation_backwards_sfc  wind_speed_10_m_above_gnd  \\\n",
       "count                        4213.000000                4213.000000   \n",
       "mean                          387.759036                  16.228787   \n",
       "std                           278.459293                   9.876948   \n",
       "min                             0.000000                   0.000000   \n",
       "25%                           142.400000                   9.010000   \n",
       "50%                           381.810000                  14.460000   \n",
       "75%                           599.860000                  21.840000   \n",
       "max                           952.300000                  61.180000   \n",
       "\n",
       "       wind_direction_10_m_above_gnd  wind_speed_80_m_above_gnd  \\\n",
       "count                    4213.000000                4213.000000   \n",
       "mean                      195.078452                  18.978483   \n",
       "std                       106.626782                  11.999960   \n",
       "min                         0.540000                   0.000000   \n",
       "25%                       153.190000                  10.140000   \n",
       "50%                       191.770000                  16.240000   \n",
       "75%                       292.070000                  26.140000   \n",
       "max                       360.000000                  66.880000   \n",
       "\n",
       "       wind_direction_80_m_above_gnd  wind_speed_900_mb  \\\n",
       "count                    4213.000000         4213.00000   \n",
       "mean                      191.166862           16.36319   \n",
       "std                       108.760021            9.88533   \n",
       "min                         1.120000            0.00000   \n",
       "25%                       130.240000            9.18000   \n",
       "50%                       187.770000           14.49000   \n",
       "75%                       292.040000           21.97000   \n",
       "max                       360.000000           61.11000   \n",
       "\n",
       "       wind_direction_900_mb  wind_gust_10_m_above_gnd  angle_of_incidence  \\\n",
       "count            4213.000000               4213.000000         4213.000000   \n",
       "mean              192.447911                 20.583489           50.837490   \n",
       "std               106.516195                 12.648899           26.638965   \n",
       "min                 1.120000                  0.720000            3.755323   \n",
       "25%               148.220000                 11.160000           29.408181   \n",
       "50%               187.990000                 18.000000           47.335557   \n",
       "75%               288.000000                 27.000000           69.197492   \n",
       "max               360.000000                 84.960000          121.635920   \n",
       "\n",
       "            zenith      azimuth  generated_power_kw  \n",
       "count  4213.000000  4213.000000         4213.000000  \n",
       "mean     59.980947   169.167651         1134.347313  \n",
       "std      19.857711    64.568385          937.957247  \n",
       "min      17.727761    54.379093            0.000595  \n",
       "25%      45.291631   114.136600          231.700450  \n",
       "50%      62.142611   163.241650          971.642650  \n",
       "75%      74.346737   225.085620         2020.966700  \n",
       "max     128.415370   289.045180         3056.794100  "
      ]
     },
     "execution_count": 51,
     "metadata": {},
     "output_type": "execute_result"
    }
   ],
   "source": [
    "df1.describe()"
   ]
  },
  {
   "cell_type": "markdown",
   "metadata": {},
   "source": [
    "The azimuth is the angle between a celestial body\n",
    "(sun, moon) and the North, measured clockwise \n",
    "around the observer's horizon. It determines\n",
    "the direction of the celestial body"
   ]
  },
  {
   "cell_type": "code",
   "execution_count": 72,
   "metadata": {
    "scrolled": true
   },
   "outputs": [
    {
     "data": {
      "text/plain": [
       "<matplotlib.collections.PathCollection at 0x20daab5a518>"
      ]
     },
     "execution_count": 72,
     "metadata": {},
     "output_type": "execute_result"
    },
    {
     "data": {
      "image/png": "[encoded data removed]",
      "text/plain": [
       "<Figure size 432x288 with 1 Axes>"
      ]
     },
     "metadata": {},
     "output_type": "display_data"
    }
   ],
   "source": [
    "\n",
    "plt.scatter(df1.azimuth, df1.generated_power_kw, marker='+')"
   ]
  },
  {
   "cell_type": "code",
   "execution_count": 69,
   "metadata": {
    "scrolled": false
   },
   "outputs": [
    {
     "data": {
      "text/plain": [
       "<matplotlib.collections.PathCollection at 0x20daa9d1a20>"
      ]
     },
     "execution_count": 69,
     "metadata": {},
     "output_type": "execute_result"
    },
    {
     "data": {
      "image/png": "[encoded data removed]",
      "text/plain": [
       "<Figure size 432x288 with 1 Axes>"
      ]
     },
     "metadata": {},
     "output_type": "display_data"
    }
   ],
   "source": [
    "plt.scatter(df1.zenith, df1.generated_power_kw, marker='+')"
   ]
  },
  {
   "cell_type": "code",
   "execution_count": 70,
   "metadata": {},
   "outputs": [
    {
     "data": {
      "text/plain": [
       "<matplotlib.collections.PathCollection at 0x20daaa86fd0>"
      ]
     },
     "execution_count": 70,
     "metadata": {},
     "output_type": "execute_result"
    },
    {
     "data": {
      "image/png": "[encoded data removed]",
      "text/plain": [
       "<Figure size 432x288 with 1 Axes>"
      ]
     },
     "metadata": {},
     "output_type": "display_data"
    }
   ],
   "source": [
    "plt.scatter(df1.angle_of_incidence, df1.generated_power_kw, marker='+')"
   ]
  },
  {
   "cell_type": "code",
   "execution_count": null,
   "metadata": {},
   "outputs": [],
   "source": []
  },
  {
   "cell_type": "code",
   "execution_count": 55,
   "metadata": {
    "scrolled": true
   },
   "outputs": [
    {
     "data": {
      "text/plain": [
       "array([[-1.45698131, -0.86557682,  2.23043487, ...,  1.17128985,\n",
       "        -0.63246228, -0.72532849],\n",
       "       [-1.44116679, -1.03562264,  2.24467576, ...,  0.76362747,\n",
       "        -0.45712549,  0.29605299],\n",
       "       [-1.28979928, -0.78055391,  2.28739843, ...,  0.4452049 ,\n",
       "        -0.25758636,  1.15211034],\n",
       "       ...,\n",
       "       [-0.88088107,  1.64259905,  0.99147753, ...,  0.29443368,\n",
       "         0.43634935, -1.04066085],\n",
       "       [-0.77017945,  1.25999595,  0.87755042, ...,  0.52959851,\n",
       "         0.65260453, -1.07415752],\n",
       "       [-0.79841966,  1.21748449,  0.84906864, ...,  0.85310122,\n",
       "         0.83458887, -1.18814003]])"
      ]
     },
     "execution_count": 55,
     "metadata": {},
     "output_type": "execute_result"
    }
   ],
   "source": [
    "import scipy.stats as stats\n",
    "\n",
    "zscore = stats.zscore(df1)\n",
    "zscore"
   ]
  },
  {
   "cell_type": "code",
   "execution_count": 56,
   "metadata": {
    "scrolled": false
   },
   "outputs": [
    {
     "data": {
      "text/html": [
       "<div>\n",
       "<style scoped>\n",
       "    .dataframe tbody tr th:only-of-type {\n",
       "        vertical-align: middle;\n",
       "    }\n",
       "\n",
       "    .dataframe tbody tr th {\n",
       "        vertical-align: top;\n",
       "    }\n",
       "\n",
       "    .dataframe thead th {\n",
       "        text-align: right;\n",
       "    }\n",
       "</style>\n",
       "<table border=\"1\" class=\"dataframe\">\n",
       "  <thead>\n",
       "    <tr style=\"text-align: right;\">\n",
       "      <th></th>\n",
       "      <th>temperature_2_m_above_gnd</th>\n",
       "      <th>relative_humidity_2_m_above_gnd</th>\n",
       "      <th>mean_sea_level_pressure_MSL</th>\n",
       "      <th>total_cloud_cover_sfc</th>\n",
       "      <th>shortwave_radiation_backwards_sfc</th>\n",
       "      <th>wind_speed_10_m_above_gnd</th>\n",
       "      <th>wind_direction_10_m_above_gnd</th>\n",
       "      <th>wind_speed_80_m_above_gnd</th>\n",
       "      <th>wind_direction_80_m_above_gnd</th>\n",
       "      <th>wind_speed_900_mb</th>\n",
       "      <th>wind_direction_900_mb</th>\n",
       "      <th>wind_gust_10_m_above_gnd</th>\n",
       "      <th>angle_of_incidence</th>\n",
       "      <th>zenith</th>\n",
       "      <th>azimuth</th>\n",
       "      <th>generated_power_kw</th>\n",
       "    </tr>\n",
       "  </thead>\n",
       "  <tbody>\n",
       "    <tr>\n",
       "      <th>0</th>\n",
       "      <td>-1.456981</td>\n",
       "      <td>-0.865577</td>\n",
       "      <td>2.230435</td>\n",
       "      <td>-0.795008</td>\n",
       "      <td>-1.392681</td>\n",
       "      <td>-0.998280</td>\n",
       "      <td>1.103339</td>\n",
       "      <td>-0.801638</td>\n",
       "      <td>-1.549897</td>\n",
       "      <td>-0.985738</td>\n",
       "      <td>1.363073</td>\n",
       "      <td>0.308088</td>\n",
       "      <td>0.297180</td>\n",
       "      <td>1.171290</td>\n",
       "      <td>-0.632462</td>\n",
       "      <td>-0.725328</td>\n",
       "    </tr>\n",
       "    <tr>\n",
       "      <th>1</th>\n",
       "      <td>-1.441167</td>\n",
       "      <td>-1.035623</td>\n",
       "      <td>2.244676</td>\n",
       "      <td>-0.795008</td>\n",
       "      <td>-1.386288</td>\n",
       "      <td>-1.121814</td>\n",
       "      <td>0.935163</td>\n",
       "      <td>-1.082506</td>\n",
       "      <td>-1.456837</td>\n",
       "      <td>-1.189094</td>\n",
       "      <td>1.210214</td>\n",
       "      <td>0.108837</td>\n",
       "      <td>-0.203820</td>\n",
       "      <td>0.763627</td>\n",
       "      <td>-0.457125</td>\n",
       "      <td>0.296053</td>\n",
       "    </tr>\n",
       "    <tr>\n",
       "      <th>2</th>\n",
       "      <td>-1.289799</td>\n",
       "      <td>-0.780554</td>\n",
       "      <td>2.287398</td>\n",
       "      <td>-0.795008</td>\n",
       "      <td>-1.002704</td>\n",
       "      <td>-1.169406</td>\n",
       "      <td>0.702736</td>\n",
       "      <td>-1.257527</td>\n",
       "      <td>-1.240096</td>\n",
       "      <td>-1.275090</td>\n",
       "      <td>0.884967</td>\n",
       "      <td>-0.517378</td>\n",
       "      <td>-0.675377</td>\n",
       "      <td>0.445205</td>\n",
       "      <td>-0.257586</td>\n",
       "      <td>1.152110</td>\n",
       "    </tr>\n",
       "  </tbody>\n",
       "</table>\n",
       "</div>"
      ],
      "text/plain": [
       "   temperature_2_m_above_gnd  relative_humidity_2_m_above_gnd  \\\n",
       "0                  -1.456981                        -0.865577   \n",
       "1                  -1.441167                        -1.035623   \n",
       "2                  -1.289799                        -0.780554   \n",
       "\n",
       "   mean_sea_level_pressure_MSL  total_cloud_cover_sfc  \\\n",
       "0                     2.230435              -0.795008   \n",
       "1                     2.244676              -0.795008   \n",
       "2                     2.287398              -0.795008   \n",
       "\n",
       "   shortwave_radiation_backwards_sfc  wind_speed_10_m_above_gnd  \\\n",
       "0                          -1.392681                  -0.998280   \n",
       "1                          -1.386288                  -1.121814   \n",
       "2                          -1.002704                  -1.169406   \n",
       "\n",
       "   wind_direction_10_m_above_gnd  wind_speed_80_m_above_gnd  \\\n",
       "0                       1.103339                  -0.801638   \n",
       "1                       0.935163                  -1.082506   \n",
       "2                       0.702736                  -1.257527   \n",
       "\n",
       "   wind_direction_80_m_above_gnd  wind_speed_900_mb  wind_direction_900_mb  \\\n",
       "0                      -1.549897          -0.985738               1.363073   \n",
       "1                      -1.456837          -1.189094               1.210214   \n",
       "2                      -1.240096          -1.275090               0.884967   \n",
       "\n",
       "   wind_gust_10_m_above_gnd  angle_of_incidence    zenith   azimuth  \\\n",
       "0                  0.308088            0.297180  1.171290 -0.632462   \n",
       "1                  0.108837           -0.203820  0.763627 -0.457125   \n",
       "2                 -0.517378           -0.675377  0.445205 -0.257586   \n",
       "\n",
       "   generated_power_kw  \n",
       "0           -0.725328  \n",
       "1            0.296053  \n",
       "2            1.152110  "
      ]
     },
     "execution_count": 56,
     "metadata": {},
     "output_type": "execute_result"
    }
   ],
   "source": [
    "df2=pd.DataFrame(zscore, columns=['temperature_2_m_above_gnd', 'relative_humidity_2_m_above_gnd',\n",
    "       'mean_sea_level_pressure_MSL', 'total_cloud_cover_sfc',\n",
    "        'shortwave_radiation_backwards_sfc',\n",
    "       'wind_speed_10_m_above_gnd', 'wind_direction_10_m_above_gnd',\n",
    "       'wind_speed_80_m_above_gnd', 'wind_direction_80_m_above_gnd',\n",
    "       'wind_speed_900_mb', 'wind_direction_900_mb',\n",
    "       'wind_gust_10_m_above_gnd', 'angle_of_incidence', 'zenith', 'azimuth',\n",
    "       'generated_power_kw'])\n",
    "df2.shape\n",
    "df2.head(3)"
   ]
  },
  {
   "cell_type": "code",
   "execution_count": 57,
   "metadata": {
    "scrolled": true
   },
   "outputs": [
    {
     "data": {
      "text/html": [
       "<div>\n",
       "<style scoped>\n",
       "    .dataframe tbody tr th:only-of-type {\n",
       "        vertical-align: middle;\n",
       "    }\n",
       "\n",
       "    .dataframe tbody tr th {\n",
       "        vertical-align: top;\n",
       "    }\n",
       "\n",
       "    .dataframe thead th {\n",
       "        text-align: right;\n",
       "    }\n",
       "</style>\n",
       "<table border=\"1\" class=\"dataframe\">\n",
       "  <thead>\n",
       "    <tr style=\"text-align: right;\">\n",
       "      <th></th>\n",
       "      <th>temperature_2_m_above_gnd</th>\n",
       "      <th>relative_humidity_2_m_above_gnd</th>\n",
       "      <th>mean_sea_level_pressure_MSL</th>\n",
       "      <th>total_cloud_cover_sfc</th>\n",
       "      <th>shortwave_radiation_backwards_sfc</th>\n",
       "      <th>wind_speed_10_m_above_gnd</th>\n",
       "      <th>wind_direction_10_m_above_gnd</th>\n",
       "      <th>wind_speed_80_m_above_gnd</th>\n",
       "      <th>wind_direction_80_m_above_gnd</th>\n",
       "      <th>wind_speed_900_mb</th>\n",
       "      <th>wind_direction_900_mb</th>\n",
       "      <th>wind_gust_10_m_above_gnd</th>\n",
       "      <th>angle_of_incidence</th>\n",
       "      <th>zenith</th>\n",
       "      <th>azimuth</th>\n",
       "      <th>generated_power_kw</th>\n",
       "    </tr>\n",
       "  </thead>\n",
       "  <tbody>\n",
       "    <tr>\n",
       "      <th>count</th>\n",
       "      <td>4.213000e+03</td>\n",
       "      <td>4.213000e+03</td>\n",
       "      <td>4.213000e+03</td>\n",
       "      <td>4.213000e+03</td>\n",
       "      <td>4.213000e+03</td>\n",
       "      <td>4.213000e+03</td>\n",
       "      <td>4.213000e+03</td>\n",
       "      <td>4.213000e+03</td>\n",
       "      <td>4.213000e+03</td>\n",
       "      <td>4.213000e+03</td>\n",
       "      <td>4.213000e+03</td>\n",
       "      <td>4.213000e+03</td>\n",
       "      <td>4.213000e+03</td>\n",
       "      <td>4.213000e+03</td>\n",
       "      <td>4.213000e+03</td>\n",
       "      <td>4.213000e+03</td>\n",
       "    </tr>\n",
       "    <tr>\n",
       "      <th>mean</th>\n",
       "      <td>3.305371e-16</td>\n",
       "      <td>-3.118006e-16</td>\n",
       "      <td>2.214915e-14</td>\n",
       "      <td>-4.211100e-16</td>\n",
       "      <td>-7.636374e-16</td>\n",
       "      <td>-2.193830e-16</td>\n",
       "      <td>-1.079918e-16</td>\n",
       "      <td>-1.261749e-16</td>\n",
       "      <td>3.209712e-17</td>\n",
       "      <td>2.200155e-16</td>\n",
       "      <td>-1.792484e-16</td>\n",
       "      <td>-8.111901e-16</td>\n",
       "      <td>3.699074e-16</td>\n",
       "      <td>-6.851602e-17</td>\n",
       "      <td>4.169990e-16</td>\n",
       "      <td>-2.250488e-16</td>\n",
       "    </tr>\n",
       "    <tr>\n",
       "      <th>std</th>\n",
       "      <td>1.000119e+00</td>\n",
       "      <td>1.000119e+00</td>\n",
       "      <td>1.000119e+00</td>\n",
       "      <td>1.000119e+00</td>\n",
       "      <td>1.000119e+00</td>\n",
       "      <td>1.000119e+00</td>\n",
       "      <td>1.000119e+00</td>\n",
       "      <td>1.000119e+00</td>\n",
       "      <td>1.000119e+00</td>\n",
       "      <td>1.000119e+00</td>\n",
       "      <td>1.000119e+00</td>\n",
       "      <td>1.000119e+00</td>\n",
       "      <td>1.000119e+00</td>\n",
       "      <td>1.000119e+00</td>\n",
       "      <td>1.000119e+00</td>\n",
       "      <td>1.000119e+00</td>\n",
       "    </tr>\n",
       "    <tr>\n",
       "      <th>min</th>\n",
       "      <td>-2.306447e+00</td>\n",
       "      <td>-1.885852e+00</td>\n",
       "      <td>-3.109899e+00</td>\n",
       "      <td>-7.950080e-01</td>\n",
       "      <td>-1.392681e+00</td>\n",
       "      <td>-1.643292e+00</td>\n",
       "      <td>-1.824697e+00</td>\n",
       "      <td>-1.581733e+00</td>\n",
       "      <td>-1.747604e+00</td>\n",
       "      <td>-1.655497e+00</td>\n",
       "      <td>-1.796446e+00</td>\n",
       "      <td>-1.570559e+00</td>\n",
       "      <td>-1.767627e+00</td>\n",
       "      <td>-2.128050e+00</td>\n",
       "      <td>-1.777994e+00</td>\n",
       "      <td>-1.209524e+00</td>\n",
       "    </tr>\n",
       "    <tr>\n",
       "      <th>25%</th>\n",
       "      <td>-7.543649e-01</td>\n",
       "      <td>-8.230654e-01</td>\n",
       "      <td>-6.889474e-01</td>\n",
       "      <td>-7.950080e-01</td>\n",
       "      <td>-8.812353e-01</td>\n",
       "      <td>-7.309590e-01</td>\n",
       "      <td>-3.928978e-01</td>\n",
       "      <td>-7.366301e-01</td>\n",
       "      <td>-5.602619e-01</td>\n",
       "      <td>-7.267378e-01</td>\n",
       "      <td>-4.152717e-01</td>\n",
       "      <td>-7.450931e-01</td>\n",
       "      <td>-8.045302e-01</td>\n",
       "      <td>-7.398163e-01</td>\n",
       "      <td>-8.523921e-01</td>\n",
       "      <td>-9.624682e-01</td>\n",
       "    </tr>\n",
       "    <tr>\n",
       "      <th>50%</th>\n",
       "      <td>-3.593404e-02</td>\n",
       "      <td>-1.428821e-01</td>\n",
       "      <td>-1.762754e-01</td>\n",
       "      <td>-5.919199e-01</td>\n",
       "      <td>-2.136665e-02</td>\n",
       "      <td>-1.791036e-01</td>\n",
       "      <td>-3.103203e-02</td>\n",
       "      <td>-2.282348e-01</td>\n",
       "      <td>-3.123634e-02</td>\n",
       "      <td>-1.895144e-01</td>\n",
       "      <td>-4.185693e-02</td>\n",
       "      <td>-2.042704e-01</td>\n",
       "      <td>-1.314747e-01</td>\n",
       "      <td>1.088706e-01</td>\n",
       "      <td>-9.178957e-02</td>\n",
       "      <td>-1.734876e-01</td>\n",
       "    </tr>\n",
       "    <tr>\n",
       "      <th>75%</th>\n",
       "      <td>7.028298e-01</td>\n",
       "      <td>7.923699e-01</td>\n",
       "      <td>6.069735e-01</td>\n",
       "      <td>1.539338e+00</td>\n",
       "      <td>7.617851e-01</td>\n",
       "      <td>5.681795e-01</td>\n",
       "      <td>9.097439e-01</td>\n",
       "      <td>5.968659e-01</td>\n",
       "      <td>9.275937e-01</td>\n",
       "      <td>5.672522e-01</td>\n",
       "      <td>8.971728e-01</td>\n",
       "      <td>5.073384e-01</td>\n",
       "      <td>6.892979e-01</td>\n",
       "      <td>7.235222e-01</td>\n",
       "      <td>8.661299e-01</td>\n",
       "      <td>9.453785e-01</td>\n",
       "    </tr>\n",
       "    <tr>\n",
       "      <th>max</th>\n",
       "      <td>2.240227e+00</td>\n",
       "      <td>2.067714e+00</td>\n",
       "      <td>3.910860e+00</td>\n",
       "      <td>1.539338e+00</td>\n",
       "      <td>2.027614e+00</td>\n",
       "      <td>4.551664e+00</td>\n",
       "      <td>1.546901e+00</td>\n",
       "      <td>3.992280e+00</td>\n",
       "      <td>1.552530e+00</td>\n",
       "      <td>4.527125e+00</td>\n",
       "      <td>1.573207e+00</td>\n",
       "      <td>5.090099e+00</td>\n",
       "      <td>2.658017e+00</td>\n",
       "      <td>3.446648e+00</td>\n",
       "      <td>1.856818e+00</td>\n",
       "      <td>2.049854e+00</td>\n",
       "    </tr>\n",
       "  </tbody>\n",
       "</table>\n",
       "</div>"
      ],
      "text/plain": [
       "       temperature_2_m_above_gnd  relative_humidity_2_m_above_gnd  \\\n",
       "count               4.213000e+03                     4.213000e+03   \n",
       "mean                3.305371e-16                    -3.118006e-16   \n",
       "std                 1.000119e+00                     1.000119e+00   \n",
       "min                -2.306447e+00                    -1.885852e+00   \n",
       "25%                -7.543649e-01                    -8.230654e-01   \n",
       "50%                -3.593404e-02                    -1.428821e-01   \n",
       "75%                 7.028298e-01                     7.923699e-01   \n",
       "max                 2.240227e+00                     2.067714e+00   \n",
       "\n",
       "       mean_sea_level_pressure_MSL  total_cloud_cover_sfc  \\\n",
       "count                 4.213000e+03           4.213000e+03   \n",
       "mean                  2.214915e-14          -4.211100e-16   \n",
       "std                   1.000119e+00           1.000119e+00   \n",
       "min                  -3.109899e+00          -7.950080e-01   \n",
       "25%                  -6.889474e-01          -7.950080e-01   \n",
       "50%                  -1.762754e-01          -5.919199e-01   \n",
       "75%                   6.069735e-01           1.539338e+00   \n",
       "max                   3.910860e+00           1.539338e+00   \n",
       "\n",
       "       shortwave_radiation_backwards_sfc  wind_speed_10_m_above_gnd  \\\n",
       "count                       4.213000e+03               4.213000e+03   \n",
       "mean                       -7.636374e-16              -2.193830e-16   \n",
       "std                         1.000119e+00               1.000119e+00   \n",
       "min                        -1.392681e+00              -1.643292e+00   \n",
       "25%                        -8.812353e-01              -7.309590e-01   \n",
       "50%                        -2.136665e-02              -1.791036e-01   \n",
       "75%                         7.617851e-01               5.681795e-01   \n",
       "max                         2.027614e+00               4.551664e+00   \n",
       "\n",
       "       wind_direction_10_m_above_gnd  wind_speed_80_m_above_gnd  \\\n",
       "count                   4.213000e+03               4.213000e+03   \n",
       "mean                   -1.079918e-16              -1.261749e-16   \n",
       "std                     1.000119e+00               1.000119e+00   \n",
       "min                    -1.824697e+00              -1.581733e+00   \n",
       "25%                    -3.928978e-01              -7.366301e-01   \n",
       "50%                    -3.103203e-02              -2.282348e-01   \n",
       "75%                     9.097439e-01               5.968659e-01   \n",
       "max                     1.546901e+00               3.992280e+00   \n",
       "\n",
       "       wind_direction_80_m_above_gnd  wind_speed_900_mb  \\\n",
       "count                   4.213000e+03       4.213000e+03   \n",
       "mean                    3.209712e-17       2.200155e-16   \n",
       "std                     1.000119e+00       1.000119e+00   \n",
       "min                    -1.747604e+00      -1.655497e+00   \n",
       "25%                    -5.602619e-01      -7.267378e-01   \n",
       "50%                    -3.123634e-02      -1.895144e-01   \n",
       "75%                     9.275937e-01       5.672522e-01   \n",
       "max                     1.552530e+00       4.527125e+00   \n",
       "\n",
       "       wind_direction_900_mb  wind_gust_10_m_above_gnd  angle_of_incidence  \\\n",
       "count           4.213000e+03              4.213000e+03        4.213000e+03   \n",
       "mean           -1.792484e-16             -8.111901e-16        3.699074e-16   \n",
       "std             1.000119e+00              1.000119e+00        1.000119e+00   \n",
       "min            -1.796446e+00             -1.570559e+00       -1.767627e+00   \n",
       "25%            -4.152717e-01             -7.450931e-01       -8.045302e-01   \n",
       "50%            -4.185693e-02             -2.042704e-01       -1.314747e-01   \n",
       "75%             8.971728e-01              5.073384e-01        6.892979e-01   \n",
       "max             1.573207e+00              5.090099e+00        2.658017e+00   \n",
       "\n",
       "             zenith       azimuth  generated_power_kw  \n",
       "count  4.213000e+03  4.213000e+03        4.213000e+03  \n",
       "mean  -6.851602e-17  4.169990e-16       -2.250488e-16  \n",
       "std    1.000119e+00  1.000119e+00        1.000119e+00  \n",
       "min   -2.128050e+00 -1.777994e+00       -1.209524e+00  \n",
       "25%   -7.398163e-01 -8.523921e-01       -9.624682e-01  \n",
       "50%    1.088706e-01 -9.178957e-02       -1.734876e-01  \n",
       "75%    7.235222e-01  8.661299e-01        9.453785e-01  \n",
       "max    3.446648e+00  1.856818e+00        2.049854e+00  "
      ]
     },
     "execution_count": 57,
     "metadata": {},
     "output_type": "execute_result"
    }
   ],
   "source": [
    "df2.describe()"
   ]
  },
  {
   "cell_type": "code",
   "execution_count": 58,
   "metadata": {},
   "outputs": [
    {
     "data": {
      "text/plain": [
       "(671, 15)"
      ]
     },
     "execution_count": 58,
     "metadata": {},
     "output_type": "execute_result"
    }
   ],
   "source": [
    "X = summer.drop(['generated_power_kw'],axis='columns')\n",
    "X.shape"
   ]
  },
  {
   "cell_type": "code",
   "execution_count": 59,
   "metadata": {},
   "outputs": [],
   "source": [
    "y = summer.generated_power_kw\n"
   ]
  },
  {
   "cell_type": "code",
   "execution_count": 60,
   "metadata": {},
   "outputs": [],
   "source": [
    "from sklearn.model_selection import train_test_split\n",
    "X_train, X_test, y_train, y_test = train_test_split(X,y,test_size=0.2,random_state=10)"
   ]
  },
  {
   "cell_type": "code",
   "execution_count": 61,
   "metadata": {},
   "outputs": [
    {
     "data": {
      "text/plain": [
       "0.8343775705573564"
      ]
     },
     "execution_count": 61,
     "metadata": {},
     "output_type": "execute_result"
    }
   ],
   "source": [
    "from sklearn.linear_model import LinearRegression\n",
    "model_1 = LinearRegression()\n",
    "model_1.fit(X_train,y_train)\n",
    "model_1.predict(X_test)\n",
    "model_1.score(X_test,y_test)"
   ]
  },
  {
   "cell_type": "code",
   "execution_count": 62,
   "metadata": {},
   "outputs": [
    {
     "name": "stderr",
     "output_type": "stream",
     "text": [
      "C:\\Users\\SUNNY\\Anaconda3\\lib\\site-packages\\sklearn\\ensemble\\weight_boosting.py:29: DeprecationWarning: numpy.core.umath_tests is an internal NumPy module and should not be imported. It will be removed in a future NumPy release.\n",
      "  from numpy.core.umath_tests import inner1d\n"
     ]
    },
    {
     "data": {
      "text/plain": [
       "0.8471777700000052"
      ]
     },
     "execution_count": 62,
     "metadata": {},
     "output_type": "execute_result"
    }
   ],
   "source": [
    "from sklearn.ensemble import RandomForestRegressor\n",
    "model_2=RandomForestRegressor(n_estimators=50) # estimator is the number of trees in the forest\n",
    "model_2.fit(X_train,y_train)\n",
    "model_2.predict(X_test)\n",
    "model_2.score(X_test,y_test)\n"
   ]
  },
  {
   "cell_type": "code",
   "execution_count": 63,
   "metadata": {},
   "outputs": [
    {
     "data": {
      "text/plain": [
       "0.8124155352305555"
      ]
     },
     "execution_count": 63,
     "metadata": {},
     "output_type": "execute_result"
    }
   ],
   "source": [
    "from sklearn.svm import SVR\n",
    "model_2=SVR(kernel='linear')\n",
    "model_2.fit(X_train,y_train)\n",
    "model_2.score(X_test,y_test)"
   ]
  },
  {
   "cell_type": "code",
   "execution_count": 73,
   "metadata": {},
   "outputs": [
    {
     "data": {
      "text/html": [
       "<div>\n",
       "<style scoped>\n",
       "    .dataframe tbody tr th:only-of-type {\n",
       "        vertical-align: middle;\n",
       "    }\n",
       "\n",
       "    .dataframe tbody tr th {\n",
       "        vertical-align: top;\n",
       "    }\n",
       "\n",
       "    .dataframe thead th {\n",
       "        text-align: right;\n",
       "    }\n",
       "</style>\n",
       "<table border=\"1\" class=\"dataframe\">\n",
       "  <thead>\n",
       "    <tr style=\"text-align: right;\">\n",
       "      <th></th>\n",
       "      <th>temperature_2_m_above_gnd</th>\n",
       "      <th>relative_humidity_2_m_above_gnd</th>\n",
       "      <th>mean_sea_level_pressure_MSL</th>\n",
       "      <th>total_precipitation_sfc</th>\n",
       "      <th>snowfall_amount_sfc</th>\n",
       "      <th>total_cloud_cover_sfc</th>\n",
       "      <th>high_cloud_cover_high_cld_lay</th>\n",
       "      <th>medium_cloud_cover_mid_cld_lay</th>\n",
       "      <th>low_cloud_cover_low_cld_lay</th>\n",
       "      <th>shortwave_radiation_backwards_sfc</th>\n",
       "      <th>...</th>\n",
       "      <th>wind_direction_10_m_above_gnd</th>\n",
       "      <th>wind_speed_80_m_above_gnd</th>\n",
       "      <th>wind_direction_80_m_above_gnd</th>\n",
       "      <th>wind_speed_900_mb</th>\n",
       "      <th>wind_direction_900_mb</th>\n",
       "      <th>wind_gust_10_m_above_gnd</th>\n",
       "      <th>angle_of_incidence</th>\n",
       "      <th>zenith</th>\n",
       "      <th>azimuth</th>\n",
       "      <th>generated_power_kw</th>\n",
       "    </tr>\n",
       "  </thead>\n",
       "  <tbody>\n",
       "    <tr>\n",
       "      <th>count</th>\n",
       "      <td>4213.000000</td>\n",
       "      <td>4213.000000</td>\n",
       "      <td>4213.000000</td>\n",
       "      <td>4213.000000</td>\n",
       "      <td>4213.000000</td>\n",
       "      <td>4213.000000</td>\n",
       "      <td>4213.000000</td>\n",
       "      <td>4213.000000</td>\n",
       "      <td>4213.000000</td>\n",
       "      <td>4213.000000</td>\n",
       "      <td>...</td>\n",
       "      <td>4213.000000</td>\n",
       "      <td>4213.000000</td>\n",
       "      <td>4213.000000</td>\n",
       "      <td>4213.00000</td>\n",
       "      <td>4213.000000</td>\n",
       "      <td>4213.000000</td>\n",
       "      <td>4213.000000</td>\n",
       "      <td>4213.000000</td>\n",
       "      <td>4213.000000</td>\n",
       "      <td>4213.000000</td>\n",
       "    </tr>\n",
       "    <tr>\n",
       "      <th>mean</th>\n",
       "      <td>15.068111</td>\n",
       "      <td>51.361025</td>\n",
       "      <td>1019.337812</td>\n",
       "      <td>0.031759</td>\n",
       "      <td>0.002808</td>\n",
       "      <td>34.056990</td>\n",
       "      <td>14.458818</td>\n",
       "      <td>20.023499</td>\n",
       "      <td>21.373368</td>\n",
       "      <td>387.759036</td>\n",
       "      <td>...</td>\n",
       "      <td>195.078452</td>\n",
       "      <td>18.978483</td>\n",
       "      <td>191.166862</td>\n",
       "      <td>16.36319</td>\n",
       "      <td>192.447911</td>\n",
       "      <td>20.583489</td>\n",
       "      <td>50.837490</td>\n",
       "      <td>59.980947</td>\n",
       "      <td>169.167651</td>\n",
       "      <td>1134.347313</td>\n",
       "    </tr>\n",
       "    <tr>\n",
       "      <th>std</th>\n",
       "      <td>8.853677</td>\n",
       "      <td>23.525864</td>\n",
       "      <td>7.022867</td>\n",
       "      <td>0.170212</td>\n",
       "      <td>0.038015</td>\n",
       "      <td>42.843638</td>\n",
       "      <td>30.711707</td>\n",
       "      <td>36.387948</td>\n",
       "      <td>38.013885</td>\n",
       "      <td>278.459293</td>\n",
       "      <td>...</td>\n",
       "      <td>106.626782</td>\n",
       "      <td>11.999960</td>\n",
       "      <td>108.760021</td>\n",
       "      <td>9.88533</td>\n",
       "      <td>106.516195</td>\n",
       "      <td>12.648899</td>\n",
       "      <td>26.638965</td>\n",
       "      <td>19.857711</td>\n",
       "      <td>64.568385</td>\n",
       "      <td>937.957247</td>\n",
       "    </tr>\n",
       "    <tr>\n",
       "      <th>min</th>\n",
       "      <td>-5.350000</td>\n",
       "      <td>7.000000</td>\n",
       "      <td>997.500000</td>\n",
       "      <td>0.000000</td>\n",
       "      <td>0.000000</td>\n",
       "      <td>0.000000</td>\n",
       "      <td>0.000000</td>\n",
       "      <td>0.000000</td>\n",
       "      <td>0.000000</td>\n",
       "      <td>0.000000</td>\n",
       "      <td>...</td>\n",
       "      <td>0.540000</td>\n",
       "      <td>0.000000</td>\n",
       "      <td>1.120000</td>\n",
       "      <td>0.00000</td>\n",
       "      <td>1.120000</td>\n",
       "      <td>0.720000</td>\n",
       "      <td>3.755323</td>\n",
       "      <td>17.727761</td>\n",
       "      <td>54.379093</td>\n",
       "      <td>0.000595</td>\n",
       "    </tr>\n",
       "    <tr>\n",
       "      <th>25%</th>\n",
       "      <td>8.390000</td>\n",
       "      <td>32.000000</td>\n",
       "      <td>1014.500000</td>\n",
       "      <td>0.000000</td>\n",
       "      <td>0.000000</td>\n",
       "      <td>0.000000</td>\n",
       "      <td>0.000000</td>\n",
       "      <td>0.000000</td>\n",
       "      <td>0.000000</td>\n",
       "      <td>142.400000</td>\n",
       "      <td>...</td>\n",
       "      <td>153.190000</td>\n",
       "      <td>10.140000</td>\n",
       "      <td>130.240000</td>\n",
       "      <td>9.18000</td>\n",
       "      <td>148.220000</td>\n",
       "      <td>11.160000</td>\n",
       "      <td>29.408181</td>\n",
       "      <td>45.291631</td>\n",
       "      <td>114.136600</td>\n",
       "      <td>231.700450</td>\n",
       "    </tr>\n",
       "    <tr>\n",
       "      <th>50%</th>\n",
       "      <td>14.750000</td>\n",
       "      <td>48.000000</td>\n",
       "      <td>1018.100000</td>\n",
       "      <td>0.000000</td>\n",
       "      <td>0.000000</td>\n",
       "      <td>8.700000</td>\n",
       "      <td>0.000000</td>\n",
       "      <td>0.000000</td>\n",
       "      <td>0.000000</td>\n",
       "      <td>381.810000</td>\n",
       "      <td>...</td>\n",
       "      <td>191.770000</td>\n",
       "      <td>16.240000</td>\n",
       "      <td>187.770000</td>\n",
       "      <td>14.49000</td>\n",
       "      <td>187.990000</td>\n",
       "      <td>18.000000</td>\n",
       "      <td>47.335557</td>\n",
       "      <td>62.142611</td>\n",
       "      <td>163.241650</td>\n",
       "      <td>971.642650</td>\n",
       "    </tr>\n",
       "    <tr>\n",
       "      <th>75%</th>\n",
       "      <td>21.290000</td>\n",
       "      <td>70.000000</td>\n",
       "      <td>1023.600000</td>\n",
       "      <td>0.000000</td>\n",
       "      <td>0.000000</td>\n",
       "      <td>100.000000</td>\n",
       "      <td>9.000000</td>\n",
       "      <td>10.000000</td>\n",
       "      <td>10.000000</td>\n",
       "      <td>599.860000</td>\n",
       "      <td>...</td>\n",
       "      <td>292.070000</td>\n",
       "      <td>26.140000</td>\n",
       "      <td>292.040000</td>\n",
       "      <td>21.97000</td>\n",
       "      <td>288.000000</td>\n",
       "      <td>27.000000</td>\n",
       "      <td>69.197492</td>\n",
       "      <td>74.346737</td>\n",
       "      <td>225.085620</td>\n",
       "      <td>2020.966700</td>\n",
       "    </tr>\n",
       "    <tr>\n",
       "      <th>max</th>\n",
       "      <td>34.900000</td>\n",
       "      <td>100.000000</td>\n",
       "      <td>1046.800000</td>\n",
       "      <td>3.200000</td>\n",
       "      <td>1.680000</td>\n",
       "      <td>100.000000</td>\n",
       "      <td>100.000000</td>\n",
       "      <td>100.000000</td>\n",
       "      <td>100.000000</td>\n",
       "      <td>952.300000</td>\n",
       "      <td>...</td>\n",
       "      <td>360.000000</td>\n",
       "      <td>66.880000</td>\n",
       "      <td>360.000000</td>\n",
       "      <td>61.11000</td>\n",
       "      <td>360.000000</td>\n",
       "      <td>84.960000</td>\n",
       "      <td>121.635920</td>\n",
       "      <td>128.415370</td>\n",
       "      <td>289.045180</td>\n",
       "      <td>3056.794100</td>\n",
       "    </tr>\n",
       "  </tbody>\n",
       "</table>\n",
       "<p>8 rows × 21 columns</p>\n",
       "</div>"
      ],
      "text/plain": [
       "       temperature_2_m_above_gnd  relative_humidity_2_m_above_gnd  \\\n",
       "count                4213.000000                      4213.000000   \n",
       "mean                   15.068111                        51.361025   \n",
       "std                     8.853677                        23.525864   \n",
       "min                    -5.350000                         7.000000   \n",
       "25%                     8.390000                        32.000000   \n",
       "50%                    14.750000                        48.000000   \n",
       "75%                    21.290000                        70.000000   \n",
       "max                    34.900000                       100.000000   \n",
       "\n",
       "       mean_sea_level_pressure_MSL  total_precipitation_sfc  \\\n",
       "count                  4213.000000              4213.000000   \n",
       "mean                   1019.337812                 0.031759   \n",
       "std                       7.022867                 0.170212   \n",
       "min                     997.500000                 0.000000   \n",
       "25%                    1014.500000                 0.000000   \n",
       "50%                    1018.100000                 0.000000   \n",
       "75%                    1023.600000                 0.000000   \n",
       "max                    1046.800000                 3.200000   \n",
       "\n",
       "       snowfall_amount_sfc  total_cloud_cover_sfc  \\\n",
       "count          4213.000000            4213.000000   \n",
       "mean              0.002808              34.056990   \n",
       "std               0.038015              42.843638   \n",
       "min               0.000000               0.000000   \n",
       "25%               0.000000               0.000000   \n",
       "50%               0.000000               8.700000   \n",
       "75%               0.000000             100.000000   \n",
       "max               1.680000             100.000000   \n",
       "\n",
       "       high_cloud_cover_high_cld_lay  medium_cloud_cover_mid_cld_lay  \\\n",
       "count                    4213.000000                     4213.000000   \n",
       "mean                       14.458818                       20.023499   \n",
       "std                        30.711707                       36.387948   \n",
       "min                         0.000000                        0.000000   \n",
       "25%                         0.000000                        0.000000   \n",
       "50%                         0.000000                        0.000000   \n",
       "75%                         9.000000                       10.000000   \n",
       "max                       100.000000                      100.000000   \n",
       "\n",
       "       low_cloud_cover_low_cld_lay  shortwave_radiation_backwards_sfc  \\\n",
       "count                  4213.000000                        4213.000000   \n",
       "mean                     21.373368                         387.759036   \n",
       "std                      38.013885                         278.459293   \n",
       "min                       0.000000                           0.000000   \n",
       "25%                       0.000000                         142.400000   \n",
       "50%                       0.000000                         381.810000   \n",
       "75%                      10.000000                         599.860000   \n",
       "max                     100.000000                         952.300000   \n",
       "\n",
       "              ...          wind_direction_10_m_above_gnd  \\\n",
       "count         ...                            4213.000000   \n",
       "mean          ...                             195.078452   \n",
       "std           ...                             106.626782   \n",
       "min           ...                               0.540000   \n",
       "25%           ...                             153.190000   \n",
       "50%           ...                             191.770000   \n",
       "75%           ...                             292.070000   \n",
       "max           ...                             360.000000   \n",
       "\n",
       "       wind_speed_80_m_above_gnd  wind_direction_80_m_above_gnd  \\\n",
       "count                4213.000000                    4213.000000   \n",
       "mean                   18.978483                     191.166862   \n",
       "std                    11.999960                     108.760021   \n",
       "min                     0.000000                       1.120000   \n",
       "25%                    10.140000                     130.240000   \n",
       "50%                    16.240000                     187.770000   \n",
       "75%                    26.140000                     292.040000   \n",
       "max                    66.880000                     360.000000   \n",
       "\n",
       "       wind_speed_900_mb  wind_direction_900_mb  wind_gust_10_m_above_gnd  \\\n",
       "count         4213.00000            4213.000000               4213.000000   \n",
       "mean            16.36319             192.447911                 20.583489   \n",
       "std              9.88533             106.516195                 12.648899   \n",
       "min              0.00000               1.120000                  0.720000   \n",
       "25%              9.18000             148.220000                 11.160000   \n",
       "50%             14.49000             187.990000                 18.000000   \n",
       "75%             21.97000             288.000000                 27.000000   \n",
       "max             61.11000             360.000000                 84.960000   \n",
       "\n",
       "       angle_of_incidence       zenith      azimuth  generated_power_kw  \n",
       "count         4213.000000  4213.000000  4213.000000         4213.000000  \n",
       "mean            50.837490    59.980947   169.167651         1134.347313  \n",
       "std             26.638965    19.857711    64.568385          937.957247  \n",
       "min              3.755323    17.727761    54.379093            0.000595  \n",
       "25%             29.408181    45.291631   114.136600          231.700450  \n",
       "50%             47.335557    62.142611   163.241650          971.642650  \n",
       "75%             69.197492    74.346737   225.085620         2020.966700  \n",
       "max            121.635920   128.415370   289.045180         3056.794100  \n",
       "\n",
       "[8 rows x 21 columns]"
      ]
     },
     "execution_count": 73,
     "metadata": {},
     "output_type": "execute_result"
    }
   ],
   "source": [
    "df.describe()"
   ]
  },
  {
   "cell_type": "code",
   "execution_count": 102,
   "metadata": {},
   "outputs": [
    {
     "data": {
      "text/plain": [
       "(array([4.097e+03, 6.000e+01, 2.000e+01, 1.100e+01, 1.200e+01, 6.000e+00,\n",
       "        5.000e+00, 1.000e+00, 0.000e+00, 1.000e+00]),\n",
       " array([0.  , 0.32, 0.64, 0.96, 1.28, 1.6 , 1.92, 2.24, 2.56, 2.88, 3.2 ]),\n",
       " <a list of 10 Patch objects>)"
      ]
     },
     "execution_count": 102,
     "metadata": {},
     "output_type": "execute_result"
    },
    {
     "data": {
      "image/png": "[encoded data removed]",
      "text/plain": [
       "<Figure size 842.4x595.44 with 1 Axes>"
      ]
     },
     "metadata": {},
     "output_type": "display_data"
    }
   ],
   "source": [
    "plt.hist(df.total_precipitation_sfc,log= True)"
   ]
  },
  {
   "cell_type": "code",
   "execution_count": null,
   "metadata": {},
   "outputs": [],
   "source": []
  },
  {
   "cell_type": "code",
   "execution_count": null,
   "metadata": {},
   "outputs": [],
   "source": []
  }
 ],
 "metadata": {
  "kernelspec": {
   "display_name": "Python 3",
   "language": "python",
   "name": "python3"
  },
  "language_info": {
   "codemirror_mode": {
    "name": "ipython",
    "version": 3
   },
   "file_extension": ".py",
   "mimetype": "text/x-python",
   "name": "python",
   "nbconvert_exporter": "python",
   "pygments_lexer": "ipython3",
   "version": "3.6.5"
  }
 },
 "nbformat": 4,
 "nbformat_minor": 2
}
